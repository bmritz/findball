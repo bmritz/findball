{
 "cells": [
  {
   "cell_type": "code",
   "execution_count": 192,
   "metadata": {
    "collapsed": false
   },
   "outputs": [],
   "source": [
    "from math import sin, cos, acos, radians, degrees, sqrt, tan\n",
    "import numpy as np\n",
    "import pandas as pd\n",
    "import numpy.linalg as linalg\n",
    "from scipy import optimize\n",
    "import matplotlib.pyplot as plt\n",
    "import seaborn as sns\n",
    "%matplotlib inline"
   ]
  },
  {
   "cell_type": "code",
   "execution_count": 193,
   "metadata": {
    "collapsed": true
   },
   "outputs": [],
   "source": [
    "# pitcher to catcher distance ft\n",
    "PITCHER_CATCHER_DISTANCE=56.4375\n",
    "\n",
    "# height of camera in ft\n",
    "H=5.\n",
    "\n",
    "# field of view in degrees\n",
    "FOVx=63.54\n",
    "FOVy=44.95886879\n",
    "PIC_LENGTH=3264.\n",
    "PIC_HEIGHT=2448."
   ]
  },
  {
   "cell_type": "code",
   "execution_count": 194,
   "metadata": {
    "collapsed": true
   },
   "outputs": [],
   "source": [
    "def simple_x(x, y, pitcher_catcher_distance=60.5):\n",
    "    pitchers_plate=x\n",
    "    home_plate=y\n",
    "    \n",
    "    p_c_meters = pitcher_catcher_distance*0.3048\n",
    "    X_pixels = pitchers_plate[0] - home_plate[0]\n",
    "\n",
    "    X_proportion = abs(X_pixels / PIC_LENGTH)\n",
    "    X_angle = radians(X_proportion*FOVx)\n",
    "    print tan(X_angle)\n",
    "    distance_meters = p_c_meters / tan(X_angle)\n",
    "\n",
    "    distance_ft = distance_meters*(1/0.3048)\n",
    "    return distance_ft\n",
    "\n",
    "def more_complex(X_pixels , y_pixels, pitcher_catcher_distance=60.5, s=0, h=0):\n",
    "    \"\"\" s is number of feet in front of pitchers plate the camera is\"\"\"\n",
    "    #pitchers_plate=x\n",
    "    #home_plate=y\n",
    "\n",
    "    #p_c_meters = pitcher_catcher_distance*0.3048\n",
    "    #s_meters = s*0.3048\n",
    "    #X_pixels = pitchers_plate[0] - home_plate[0]\n",
    "    #y_pixels = pitchers_plate[1] - home_plate[1]\n",
    "    X_proportion = abs(X_pixels / PIC_LENGTH)\n",
    "    y_proportion = abs(y_pixels / PIC_HEIGHT)\n",
    "    X_angle_degrees = X_proportion*FOVx\n",
    "    X_angle_degrees_front = X_angle_degrees * (pitcher_catcher_distance - s) / pitcher_catcher_distance\n",
    "    X_angle_radians_front = radians(X_angle_degrees_front)\n",
    "    y_angle = radians(y_proportion*FOVy)\n",
    "    distance_ft = (pitcher_catcher_distance-s) / tan(X_angle_radians_front)\n",
    "\n",
    "    #distance_ft = distance_meters*(1/0.3048)\n",
    "\n",
    "    # correct for h\n",
    "    d = sqrt(distance_ft**2 - h**2)    \n",
    "    \n",
    "    return d\n",
    "\n",
    "def panorama(x, y, pitcher_catcher_distance=60.5, s=0):\n",
    "    #pitchers_plate=x\n",
    "    #home_plate=y\n",
    "    \n",
    "    pano_degrees_per_pixel = FOVx/PIC_LENGTH    \n",
    "    \n",
    "    p_c_meters = pitcher_catcher_distance*0.3048\n",
    "    s_meters = s*0.3048\n",
    "    X_pixels = x\n",
    "    y_pixels = y\n",
    "    X_angle_degrees = X_pixels*pano_degrees_per_pixel\n",
    "    X_angle_degrees_front = X_angle_degrees * (pitcher_catcher_distance - s) / pitcher_catcher_distance\n",
    "    X_angle_radians_front = radians(X_angle_degrees_front)\n",
    "    y_proportion = abs(y_pixels / PIC_LENGTH)\n",
    "    y_angle = radians(y_proportion*FOVy)\n",
    "    distance_meters = (p_c_meters-s_meters) / tan(X_angle_radians_front)\n",
    "\n",
    "    distance_ft = distance_meters*(1/0.3048)\n",
    "    return distance_ft\n",
    "        \n",
    "def find_dist(X_pixels, y_pixels, pitcher_catcher_distance=60.5, s=0., h=0.):\n",
    "    #pitchers_plate=x\n",
    "    #home_plate=y\n",
    "    #X_pixels = abs(pitchers_plate[0] - home_plate[0])\n",
    "    #y_pixels = pitchers_plate[1] - home_plate[1]\n",
    "    if X_pixels > PIC_LENGTH:\n",
    "        return panorama(X_pixels, y_pixels, pitcher_catcher_distance, s=s)\n",
    "    elif X_pixels < PIC_LENGTH:\n",
    "        return more_complex(X_pixels, y_pixels, pitcher_catcher_distance, s=s, h=h)\n",
    "    else:\n",
    "        raise ValueError\n",
    "    \n",
    "    "
   ]
  },
  {
   "cell_type": "code",
   "execution_count": 195,
   "metadata": {
    "collapsed": false
   },
   "outputs": [],
   "source": [
    "\n",
    "training = pd.read_excel(\"/Users/brianritz/projects/findball/distance_calibration/photos_20160210/positions.xlsx\")\n",
    "\n",
    "training['ydiff'] = training.ymax - training.ymin\n",
    "training['xdiff'] = training.xmax - training.xmin\n",
    "training.loc[:,'predicted_dist'] = training.apply(lambda x: more_complex(x.xdiff, x.ydiff, pitcher_catcher_distance=PITCHER_CATCHER_DISTANCE, s=0, h=H), axis=1)\n",
    "#test_dat['predicted_dist'] = pd.Series(all_pred)\n",
    "training.loc[:,'predicted_dist**2'] = training.predicted_dist**2\n",
    "\n",
    "\n",
    "training['resid'] = training.predicted_dist - training.distance_ft\n",
    "\n",
    "df =training[['predicted_dist', 'distance_ft', 'resid','ydiff',\"xmin\"]]\n",
    "    "
   ]
  },
  {
   "cell_type": "code",
   "execution_count": 196,
   "metadata": {
    "collapsed": false
   },
   "outputs": [
    {
     "data": {
      "text/plain": [
       "<seaborn.axisgrid.FacetGrid at 0x1140b4050>"
      ]
     },
     "execution_count": 196,
     "metadata": {},
     "output_type": "execute_result"
    },
    {
     "data": {
      "image/png": "[encoded data removed]",
      "text/plain": [
       "<matplotlib.figure.Figure at 0x114e8fc50>"
      ]
     },
     "metadata": {},
     "output_type": "display_data"
    }
   ],
   "source": [
    "#training.plot(x='predicted_dist', y='resid', kind=\"scatter\", )\n",
    "#plt.scatter(training.predicted_dist, training.resid )\n",
    "sns.lmplot(\"predicted_dist\", \"resid\" , data=training, )"
   ]
  },
  {
   "cell_type": "code",
   "execution_count": 197,
   "metadata": {
    "collapsed": false
   },
   "outputs": [],
   "source": [
    "focal_length = 29. #mm\n",
    "sensor_size = 4.8 # mm\n",
    "# http://photo.stackexchange.com/questions/12434/how-do-i-calculate-the-distance-of-an-object-in-a-photo\n",
    "def easy_way(x_diff, pitcher_catcher_dist, h=0): \n",
    "    distmm= (focal_length *304.8* pitcher_catcher_dist * PIC_LENGTH) / (x_diff * sensor_size)\n",
    "    distft= distmm / 304.8\n",
    "    dist_correctedh = sqrt(distft**2 - h**2)\n",
    "    \n",
    "    #tangent_correction = sqrt(dist_correctedh**2 - (pitcher_catcher_dist / 2.)**2)\n",
    "    #return tangent_correction\n",
    "    return dist_correctedh\n",
    "\n",
    "training['easy_way_est'] = training.xdiff.apply(lambda x: easy_way(x, PITCHER_CATCHER_DISTANCE))\n",
    "training['easy_resid'] = training.easy_way_est - training.distance_ft\n",
    "training['easy_way_est**2'] = training.easy_way_est**2\n",
    "training['pitcher_catcher_distance'] = PITCHER_CATCHER_DISTANCE"
   ]
  },
  {
   "cell_type": "code",
   "execution_count": 198,
   "metadata": {
    "collapsed": false
   },
   "outputs": [],
   "source": [
    "easy_res = training[['xmin','easy_way_est', 'distance_ft', 'easy_resid']]"
   ]
  },
  {
   "cell_type": "code",
   "execution_count": 199,
   "metadata": {
    "collapsed": false
   },
   "outputs": [
    {
     "data": {
      "text/plain": [
       "<matplotlib.axes._subplots.AxesSubplot at 0x1151adfd0>"
      ]
     },
     "execution_count": 199,
     "metadata": {},
     "output_type": "execute_result"
    },
    {
     "data": {
      "image/png": "[encoded data removed]",
      "text/plain": [
       "<matplotlib.figure.Figure at 0x113c10c50>"
      ]
     },
     "metadata": {},
     "output_type": "display_data"
    }
   ],
   "source": [
    "training.plot(x='distance_ft', y='easy_resid', kind=\"scatter\")"
   ]
  },
  {
   "cell_type": "code",
   "execution_count": 211,
   "metadata": {
    "collapsed": false
   },
   "outputs": [],
   "source": [
    "training['xmin**2'] = training.xmin**2\n",
    "training['xmin**4'] = training.xmin**4\n",
    "training['xmin**6'] = training.xmin**6\n",
    "#reg = pd.stats.ols.OLS(y=training.distance_ft, x=training[['easy_way_est','easy_way_est**2', 'xmin','xmin**2']])\n",
    "reg = pd.stats.ols.OLS(y=training.distance_ft, x=training[['predicted_dist','predicted_dist**2', 'xmin**2','xmin']])\n",
    "reg = pd.stats.ols.OLS(y=training.distance_ft, x=training[['predicted_dist', 'xmin**2','xmin']])\n",
    "training['fitted_pred'] = reg.y_fitted\n",
    "training['fitted_resid'] = training.fitted_pred - training.distance_ft"
   ]
  },
  {
   "cell_type": "code",
   "execution_count": 218,
   "metadata": {
    "collapsed": false
   },
   "outputs": [
    {
     "data": {
      "text/plain": [
       "<seaborn.axisgrid.FacetGrid at 0x116243390>"
      ]
     },
     "execution_count": 218,
     "metadata": {},
     "output_type": "execute_result"
    },
    {
     "data": {
      "image/png": "[encoded data removed]",
      "text/plain": [
       "<matplotlib.figure.Figure at 0x115fcccd0>"
      ]
     },
     "metadata": {},
     "output_type": "display_data"
    },
    {
     "data": {
      "image/png": "[encoded data removed]",
      "text/plain": [
       "<matplotlib.figure.Figure at 0x1162bcc10>"
      ]
     },
     "metadata": {},
     "output_type": "display_data"
    }
   ],
   "source": [
    "training.plot(x='ydiff', y='fitted_resid', kind='scatter')\n",
    "sns.lmplot('ydiff', 'fitted_resid', data=training)"
   ]
  },
  {
   "cell_type": "code",
   "execution_count": 202,
   "metadata": {
    "collapsed": false
   },
   "outputs": [
    {
     "data": {
      "text/plain": [
       "<matplotlib.axes._subplots.AxesSubplot at 0x1158fc110>"
      ]
     },
     "execution_count": 202,
     "metadata": {},
     "output_type": "execute_result"
    },
    {
     "data": {
      "image/png": "[encoded data removed]",
      "text/plain": [
       "<matplotlib.figure.Figure at 0x1140b49d0>"
      ]
     },
     "metadata": {},
     "output_type": "display_data"
    }
   ],
   "source": [
    "training.plot(x='ydiff', y='fitted_resid', kind='scatter')"
   ]
  },
  {
   "cell_type": "code",
   "execution_count": 203,
   "metadata": {
    "collapsed": false
   },
   "outputs": [
    {
     "data": {
      "text/plain": [
       "-1.4992451724538115e-13"
      ]
     },
     "execution_count": 203,
     "metadata": {},
     "output_type": "execute_result"
    }
   ],
   "source": [
    "training.fitted_resid.mean()"
   ]
  },
  {
   "cell_type": "markdown",
   "metadata": {},
   "source": [
    "TEST"
   ]
  },
  {
   "cell_type": "code",
   "execution_count": 204,
   "metadata": {
    "collapsed": false
   },
   "outputs": [],
   "source": [
    "test_dat = pd.read_excel('/Users/brianritz/projects/findball/distance_calibration/photos_20160211/photo_info.xlsx')\n",
    "test_dat = test_dat[test_dat.photo_no !=71]\n",
    "test_dat['xdiff']= test_dat.xmax - test_dat.xmin\n",
    "\n",
    "test_dat['ydiff'] = test_dat.apply(lambda x: (x.ymax - x.ymin) * (-1 + 2*int(x.direction[0:4]==\"up\")), axis=1)\n",
    "test_dat['xmin**2'] = test_dat.xmin**2\n",
    "test_dat['xmin**4'] = test_dat.xmin**4"
   ]
  },
  {
   "cell_type": "code",
   "execution_count": 205,
   "metadata": {
    "collapsed": false
   },
   "outputs": [],
   "source": [
    "test_dat.loc[:,'predicted_dist'] = test_dat.apply(lambda x: more_complex(x.xdiff, x.ydiff, pitcher_catcher_distance=PITCHER_CATCHER_DISTANCE, s=0, h=H), axis=1)\n",
    "#test_dat['predicted_dist'] = pd.Series(all_pred)\n",
    "test_dat.loc[:,'predicted_dist**2'] = test_dat.predicted_dist**2\n",
    "\n",
    "test_dat['resid'] = test_dat.predicted_dist - test_dat.distance_ft\n",
    "\n",
    "test_dat['easy_way_est'] = test_dat.xdiff.apply(lambda x: easy_way(x, PITCHER_CATCHER_DISTANCE))\n",
    "test_dat['easy_resid'] = test_dat.easy_way_est - test_dat.distance_ft\n",
    "test_dat['easy_way_est**2'] = test_dat.easy_way_est**2"
   ]
  },
  {
   "cell_type": "code",
   "execution_count": 207,
   "metadata": {
    "collapsed": false
   },
   "outputs": [],
   "source": [
    "test_dat['fitted_pred'] = reg.predict(x=test_dat[['predicted_dist','xmin**2','xmin']])\n",
    "test_dat['fitted_resid'] = test_dat.fitted_pred - test_dat.distance_ft"
   ]
  },
  {
   "cell_type": "code",
   "execution_count": 216,
   "metadata": {
    "collapsed": false
   },
   "outputs": [
    {
     "data": {
      "text/plain": [
       "<seaborn.axisgrid.FacetGrid at 0x11621ea10>"
      ]
     },
     "execution_count": 216,
     "metadata": {},
     "output_type": "execute_result"
    },
    {
     "data": {
      "image/png": "[encoded data removed]",
      "text/plain": [
       "<matplotlib.figure.Figure at 0x11621ecd0>"
      ]
     },
     "metadata": {},
     "output_type": "display_data"
    }
   ],
   "source": [
    "sns.lmplot('ydiff', 'fitted_resid', data=test_dat)"
   ]
  },
  {
   "cell_type": "code",
   "execution_count": 93,
   "metadata": {
    "collapsed": false
   },
   "outputs": [
    {
     "data": {
      "text/html": [
       "<div style=\"max-height:1000px;max-width:1500px;overflow:auto;\">\n",
       "<table border=\"1\" class=\"dataframe\">\n",
       "  <thead>\n",
       "    <tr style=\"text-align: right;\">\n",
       "      <th></th>\n",
       "      <th>photo_no</th>\n",
       "      <th>distance_ft</th>\n",
       "      <th>direction</th>\n",
       "      <th>xmin</th>\n",
       "      <th>ymin</th>\n",
       "      <th>xmax</th>\n",
       "      <th>ymax</th>\n",
       "      <th>xdiff</th>\n",
       "      <th>ydiff</th>\n",
       "      <th>xmin**2</th>\n",
       "      <th>xmin**4</th>\n",
       "      <th>predicted_dist</th>\n",
       "      <th>resid</th>\n",
       "      <th>easy_way_est</th>\n",
       "      <th>easy_resid</th>\n",
       "      <th>easy_way_est**2</th>\n",
       "      <th>predicted_dist**2</th>\n",
       "      <th>fitted_pred</th>\n",
       "      <th>fitted_resid</th>\n",
       "    </tr>\n",
       "  </thead>\n",
       "  <tbody>\n",
       "    <tr>\n",
       "      <th>0</th>\n",
       "      <td>0</td>\n",
       "      <td>100</td>\n",
       "      <td>up</td>\n",
       "      <td>507</td>\n",
       "      <td>1307</td>\n",
       "      <td>1978</td>\n",
       "      <td>1321</td>\n",
       "      <td>1471</td>\n",
       "      <td>14</td>\n",
       "      <td>257049</td>\n",
       "      <td>6.607419e+10</td>\n",
       "      <td>103.238857</td>\n",
       "      <td>3.238857</td>\n",
       "      <td>99.850385</td>\n",
       "      <td>-0.149615</td>\n",
       "      <td>9970.099326</td>\n",
       "      <td>10658.261681</td>\n",
       "      <td>97.144563</td>\n",
       "      <td>-2.855437</td>\n",
       "    </tr>\n",
       "    <tr>\n",
       "      <th>1</th>\n",
       "      <td>1</td>\n",
       "      <td>100</td>\n",
       "      <td>up</td>\n",
       "      <td>460</td>\n",
       "      <td>1316</td>\n",
       "      <td>1936</td>\n",
       "      <td>1327</td>\n",
       "      <td>1476</td>\n",
       "      <td>11</td>\n",
       "      <td>211600</td>\n",
       "      <td>4.477456e+10</td>\n",
       "      <td>102.822212</td>\n",
       "      <td>2.822212</td>\n",
       "      <td>99.485073</td>\n",
       "      <td>-0.514927</td>\n",
       "      <td>9897.279805</td>\n",
       "      <td>10572.407238</td>\n",
       "      <td>96.956590</td>\n",
       "      <td>-3.043410</td>\n",
       "    </tr>\n",
       "    <tr>\n",
       "      <th>2</th>\n",
       "      <td>2</td>\n",
       "      <td>100</td>\n",
       "      <td>down</td>\n",
       "      <td>266</td>\n",
       "      <td>1322</td>\n",
       "      <td>1781</td>\n",
       "      <td>1330</td>\n",
       "      <td>1515</td>\n",
       "      <td>-8</td>\n",
       "      <td>70756</td>\n",
       "      <td>5.006412e+09</td>\n",
       "      <td>99.658591</td>\n",
       "      <td>-0.341409</td>\n",
       "      <td>96.715075</td>\n",
       "      <td>-3.284925</td>\n",
       "      <td>9353.805792</td>\n",
       "      <td>9931.834779</td>\n",
       "      <td>95.093870</td>\n",
       "      <td>-4.906130</td>\n",
       "    </tr>\n",
       "    <tr>\n",
       "      <th>3</th>\n",
       "      <td>3</td>\n",
       "      <td>100</td>\n",
       "      <td>up</td>\n",
       "      <td>449</td>\n",
       "      <td>1232</td>\n",
       "      <td>1929</td>\n",
       "      <td>1249</td>\n",
       "      <td>1480</td>\n",
       "      <td>17</td>\n",
       "      <td>201601</td>\n",
       "      <td>4.064296e+10</td>\n",
       "      <td>102.490747</td>\n",
       "      <td>2.490747</td>\n",
       "      <td>99.194530</td>\n",
       "      <td>-0.805470</td>\n",
       "      <td>9839.554794</td>\n",
       "      <td>10504.353238</td>\n",
       "      <td>96.704472</td>\n",
       "      <td>-3.295528</td>\n",
       "    </tr>\n",
       "    <tr>\n",
       "      <th>4</th>\n",
       "      <td>4</td>\n",
       "      <td>98</td>\n",
       "      <td>down</td>\n",
       "      <td>799</td>\n",
       "      <td>1215</td>\n",
       "      <td>2270</td>\n",
       "      <td>1223</td>\n",
       "      <td>1471</td>\n",
       "      <td>-8</td>\n",
       "      <td>638401</td>\n",
       "      <td>4.075558e+11</td>\n",
       "      <td>103.238857</td>\n",
       "      <td>5.238857</td>\n",
       "      <td>99.850385</td>\n",
       "      <td>1.850385</td>\n",
       "      <td>9970.099326</td>\n",
       "      <td>10658.261681</td>\n",
       "      <td>96.578242</td>\n",
       "      <td>-1.421758</td>\n",
       "    </tr>\n",
       "  </tbody>\n",
       "</table>\n",
       "</div>"
      ],
      "text/plain": [
       "   photo_no  distance_ft direction  xmin  ymin  xmax  ymax  xdiff  ydiff  \\\n",
       "0         0          100        up   507  1307  1978  1321   1471     14   \n",
       "1         1          100        up   460  1316  1936  1327   1476     11   \n",
       "2         2          100      down   266  1322  1781  1330   1515     -8   \n",
       "3         3          100        up   449  1232  1929  1249   1480     17   \n",
       "4         4           98      down   799  1215  2270  1223   1471     -8   \n",
       "\n",
       "   xmin**2       xmin**4  predicted_dist     resid  easy_way_est  easy_resid  \\\n",
       "0   257049  6.607419e+10      103.238857  3.238857     99.850385   -0.149615   \n",
       "1   211600  4.477456e+10      102.822212  2.822212     99.485073   -0.514927   \n",
       "2    70756  5.006412e+09       99.658591 -0.341409     96.715075   -3.284925   \n",
       "3   201601  4.064296e+10      102.490747  2.490747     99.194530   -0.805470   \n",
       "4   638401  4.075558e+11      103.238857  5.238857     99.850385    1.850385   \n",
       "\n",
       "   easy_way_est**2  predicted_dist**2  fitted_pred  fitted_resid  \n",
       "0      9970.099326       10658.261681    97.144563     -2.855437  \n",
       "1      9897.279805       10572.407238    96.956590     -3.043410  \n",
       "2      9353.805792        9931.834779    95.093870     -4.906130  \n",
       "3      9839.554794       10504.353238    96.704472     -3.295528  \n",
       "4      9970.099326       10658.261681    96.578242     -1.421758  "
      ]
     },
     "execution_count": 93,
     "metadata": {},
     "output_type": "execute_result"
    }
   ],
   "source": [
    "test_dat.head()"
   ]
  },
  {
   "cell_type": "code",
   "execution_count": 213,
   "metadata": {
    "collapsed": false
   },
   "outputs": [
    {
     "data": {
      "text/plain": [
       "<matplotlib.collections.PathCollection at 0x115e8a990>"
      ]
     },
     "execution_count": 213,
     "metadata": {},
     "output_type": "execute_result"
    },
    {
     "data": {
      "image/png": "[encoded data removed]",
      "text/plain": [
       "<matplotlib.figure.Figure at 0x115d93450>"
      ]
     },
     "metadata": {},
     "output_type": "display_data"
    }
   ],
   "source": [
    "plt.scatter(test_dat.ydiff, test_dat.fitted_resid)"
   ]
  },
  {
   "cell_type": "code",
   "execution_count": null,
   "metadata": {
    "collapsed": true
   },
   "outputs": [],
   "source": []
  },
  {
   "cell_type": "code",
   "execution_count": 220,
   "metadata": {
    "collapsed": false
   },
   "outputs": [
    {
     "data": {
      "text/html": [
       "<div style=\"max-height:1000px;max-width:1500px;overflow:auto;\">\n",
       "<table border=\"1\" class=\"dataframe\">\n",
       "  <thead>\n",
       "    <tr style=\"text-align: right;\">\n",
       "      <th></th>\n",
       "      <th>photo_no</th>\n",
       "      <th>distance_ft</th>\n",
       "      <th>direction</th>\n",
       "      <th>xmin</th>\n",
       "      <th>ymin</th>\n",
       "      <th>xmax</th>\n",
       "      <th>ymax</th>\n",
       "      <th>xdiff</th>\n",
       "      <th>ydiff</th>\n",
       "      <th>xmin**2</th>\n",
       "      <th>xmin**4</th>\n",
       "      <th>easy_way_est</th>\n",
       "      <th>easy_resid</th>\n",
       "      <th>easy_way_est**2</th>\n",
       "      <th>fitted_pred</th>\n",
       "      <th>fitted_resid</th>\n",
       "    </tr>\n",
       "  </thead>\n",
       "  <tbody>\n",
       "    <tr>\n",
       "      <th>2</th>\n",
       "      <td>2</td>\n",
       "      <td>100</td>\n",
       "      <td>down</td>\n",
       "      <td>266</td>\n",
       "      <td>1322</td>\n",
       "      <td>1781</td>\n",
       "      <td>1330</td>\n",
       "      <td>1515</td>\n",
       "      <td>-8</td>\n",
       "      <td>70756</td>\n",
       "      <td>5006411536</td>\n",
       "      <td>100.747723</td>\n",
       "      <td>0.747723</td>\n",
       "      <td>10150.103644</td>\n",
       "      <td>95.101713</td>\n",
       "      <td>-4.898287</td>\n",
       "    </tr>\n",
       "  </tbody>\n",
       "</table>\n",
       "</div>"
      ],
      "text/plain": [
       "   photo_no  distance_ft direction  xmin  ymin  xmax  ymax  xdiff  ydiff  \\\n",
       "2         2          100      down   266  1322  1781  1330   1515     -8   \n",
       "\n",
       "   xmin**2     xmin**4  easy_way_est  easy_resid  easy_way_est**2  \\\n",
       "2    70756  5006411536    100.747723    0.747723     10150.103644   \n",
       "\n",
       "   fitted_pred  fitted_resid  \n",
       "2    95.101713     -4.898287  "
      ]
     },
     "execution_count": 220,
     "metadata": {},
     "output_type": "execute_result"
    }
   ],
   "source": [
    "test_dat[test_dat.fitted_resid<-4]"
   ]
  },
  {
   "cell_type": "code",
   "execution_count": 221,
   "metadata": {
    "collapsed": false
   },
   "outputs": [
    {
     "data": {
      "text/html": [
       "<div style=\"max-height:1000px;max-width:1500px;overflow:auto;\">\n",
       "<table border=\"1\" class=\"dataframe\">\n",
       "  <thead>\n",
       "    <tr style=\"text-align: right;\">\n",
       "      <th></th>\n",
       "      <th>photo_no</th>\n",
       "      <th>distance_ft</th>\n",
       "      <th>direction</th>\n",
       "      <th>xmin</th>\n",
       "      <th>ymin</th>\n",
       "      <th>xmax</th>\n",
       "      <th>ymax</th>\n",
       "      <th>xdiff</th>\n",
       "      <th>ydiff</th>\n",
       "      <th>xmin**2</th>\n",
       "      <th>xmin**4</th>\n",
       "      <th>easy_way_est</th>\n",
       "      <th>easy_resid</th>\n",
       "      <th>easy_way_est**2</th>\n",
       "      <th>fitted_pred</th>\n",
       "      <th>fitted_resid</th>\n",
       "    </tr>\n",
       "  </thead>\n",
       "  <tbody>\n",
       "    <tr>\n",
       "      <th>0</th>\n",
       "      <td>0</td>\n",
       "      <td>100</td>\n",
       "      <td>up</td>\n",
       "      <td>507</td>\n",
       "      <td>1307</td>\n",
       "      <td>1978</td>\n",
       "      <td>1321</td>\n",
       "      <td>1471</td>\n",
       "      <td>14</td>\n",
       "      <td>257049</td>\n",
       "      <td>66074188401</td>\n",
       "      <td>103.761251</td>\n",
       "      <td>3.761251</td>\n",
       "      <td>10766.397178</td>\n",
       "      <td>97.117436</td>\n",
       "      <td>-2.882564</td>\n",
       "    </tr>\n",
       "    <tr>\n",
       "      <th>1</th>\n",
       "      <td>1</td>\n",
       "      <td>100</td>\n",
       "      <td>up</td>\n",
       "      <td>460</td>\n",
       "      <td>1316</td>\n",
       "      <td>1936</td>\n",
       "      <td>1327</td>\n",
       "      <td>1476</td>\n",
       "      <td>11</td>\n",
       "      <td>211600</td>\n",
       "      <td>44774560000</td>\n",
       "      <td>103.409756</td>\n",
       "      <td>3.409756</td>\n",
       "      <td>10693.577656</td>\n",
       "      <td>96.934032</td>\n",
       "      <td>-3.065968</td>\n",
       "    </tr>\n",
       "    <tr>\n",
       "      <th>2</th>\n",
       "      <td>2</td>\n",
       "      <td>100</td>\n",
       "      <td>down</td>\n",
       "      <td>266</td>\n",
       "      <td>1322</td>\n",
       "      <td>1781</td>\n",
       "      <td>1330</td>\n",
       "      <td>1515</td>\n",
       "      <td>-8</td>\n",
       "      <td>70756</td>\n",
       "      <td>5006411536</td>\n",
       "      <td>100.747723</td>\n",
       "      <td>0.747723</td>\n",
       "      <td>10150.103644</td>\n",
       "      <td>95.101713</td>\n",
       "      <td>-4.898287</td>\n",
       "    </tr>\n",
       "    <tr>\n",
       "      <th>3</th>\n",
       "      <td>3</td>\n",
       "      <td>100</td>\n",
       "      <td>up</td>\n",
       "      <td>449</td>\n",
       "      <td>1232</td>\n",
       "      <td>1929</td>\n",
       "      <td>1249</td>\n",
       "      <td>1480</td>\n",
       "      <td>17</td>\n",
       "      <td>201601</td>\n",
       "      <td>40642963201</td>\n",
       "      <td>103.130270</td>\n",
       "      <td>3.130270</td>\n",
       "      <td>10635.852646</td>\n",
       "      <td>96.686032</td>\n",
       "      <td>-3.313968</td>\n",
       "    </tr>\n",
       "  </tbody>\n",
       "</table>\n",
       "</div>"
      ],
      "text/plain": [
       "   photo_no  distance_ft direction  xmin  ymin  xmax  ymax  xdiff  ydiff  \\\n",
       "0         0          100        up   507  1307  1978  1321   1471     14   \n",
       "1         1          100        up   460  1316  1936  1327   1476     11   \n",
       "2         2          100      down   266  1322  1781  1330   1515     -8   \n",
       "3         3          100        up   449  1232  1929  1249   1480     17   \n",
       "\n",
       "   xmin**2      xmin**4  easy_way_est  easy_resid  easy_way_est**2  \\\n",
       "0   257049  66074188401    103.761251    3.761251     10766.397178   \n",
       "1   211600  44774560000    103.409756    3.409756     10693.577656   \n",
       "2    70756   5006411536    100.747723    0.747723     10150.103644   \n",
       "3   201601  40642963201    103.130270    3.130270     10635.852646   \n",
       "\n",
       "   fitted_pred  fitted_resid  \n",
       "0    97.117436     -2.882564  \n",
       "1    96.934032     -3.065968  \n",
       "2    95.101713     -4.898287  \n",
       "3    96.686032     -3.313968  "
      ]
     },
     "execution_count": 221,
     "metadata": {},
     "output_type": "execute_result"
    }
   ],
   "source": [
    "test_dat[test_dat.distance_ft==100]"
   ]
  },
  {
   "cell_type": "markdown",
   "metadata": {},
   "source": [
    "use just the second time to estimate coefficients"
   ]
  },
  {
   "cell_type": "code",
   "execution_count": 141,
   "metadata": {
    "collapsed": false
   },
   "outputs": [
    {
     "name": "stdout",
     "output_type": "stream",
     "text": [
      "('TRAIN:', array([35, 74, 49, 81, 48, 41, 12, 50,  9, 91,  5, 61,  3, 17, 55, 77, 87,\n",
      "       64, 62, 70, 53, 43, 46,  2,  7, 78, 37, 36, 25, 92, 27, 66, 30, 84,\n",
      "       85, 15, 56, 72, 11, 67, 95, 45, 60, 75, 20, 32, 19, 21,  6, 94, 38,\n",
      "       14]), 'TEST:', array([42, 79, 10, 54, 34, 40, 69, 83, 39, 28, 68, 47, 18, 63, 33, 82,  4,\n",
      "       58, 13,  1, 80, 71, 29, 88, 89,  0, 24, 26, 59, 52, 22, 65, 57, 86,\n",
      "       31, 16, 23, 90, 44, 73, 93, 76, 51,  8]))\n"
     ]
    }
   ],
   "source": [
    "import numpy as np\n",
    "from sklearn.cross_validation import StratifiedShuffleSplit\n",
    "X = test_dat.drop('distance_ft', axis=1)\n",
    "y = test_dat['distance_ft']\n",
    "\n",
    "split = StratifiedShuffleSplit(y, n_iter=1, test_size=0.5, random_state=0)\n",
    "\n",
    "for train_index, test_index in split:\n",
    "   print(\"TRAIN:\", train_index, \"TEST:\", test_index)\n",
    "   X_train, X_test = X.iloc[train_index,:], X.iloc[test_index,:]\n",
    "   y_train, y_test = y[train_index], y[test_index]\n",
    "\n",
    "\n",
    "#X_train, X_test, y_train, y_test = train_test_split(test_dat.drop('distance_ft'), test_dat.distance_ft, test_size=0.5, random_state=42)"
   ]
  },
  {
   "cell_type": "code",
   "execution_count": 161,
   "metadata": {
    "collapsed": false,
    "scrolled": true
   },
   "outputs": [
    {
     "name": "stderr",
     "output_type": "stream",
     "text": [
      "/Users/brianritz/.virtualenvs/findball/lib/python2.7/site-packages/IPython/kernel/__main__.py:2: SettingWithCopyWarning: \n",
      "A value is trying to be set on a copy of a slice from a DataFrame\n",
      "\n",
      "See the the caveats in the documentation: http://pandas.pydata.org/pandas-docs/stable/indexing.html#indexing-view-versus-copy\n",
      "  from IPython.kernel.zmq import kernelapp as app\n"
     ]
    },
    {
     "data": {
      "text/plain": [
       "\n",
       "-------------------------Summary of Regression Analysis-------------------------\n",
       "\n",
       "Formula: Y ~ <predicted_dist> + <predicted_dist**2> + <intercept>\n",
       "\n",
       "Number of Observations:         44\n",
       "Number of Degrees of Freedom:   3\n",
       "\n",
       "R-squared:         0.9922\n",
       "Adj R-squared:     0.9919\n",
       "\n",
       "Rmse:              1.2367\n",
       "\n",
       "F-stat (2, 41):  2621.1516, p-value:     0.0000\n",
       "\n",
       "Degrees of Freedom: model 2, resid 41\n",
       "\n",
       "-----------------------Summary of Estimated Coefficients------------------------\n",
       "      Variable       Coef    Std Err     t-stat    p-value    CI 2.5%   CI 97.5%\n",
       "--------------------------------------------------------------------------------\n",
       "predicted_dist     0.6801     0.1391       4.89     0.0000     0.4076     0.9527\n",
       "predicted_dist**2     0.0016     0.0009       1.86     0.0707    -0.0001     0.0034\n",
       "     intercept    12.6739     5.3507       2.37     0.0226     2.1865    23.1613\n",
       "---------------------------------End of Summary---------------------------------"
      ]
     },
     "execution_count": 161,
     "metadata": {},
     "output_type": "execute_result"
    }
   ],
   "source": [
    "reg = pd.stats.ols.OLS(y=y_train, x=X_train[['predicted_dist','predicted_dist**2','xmin**2', 'xmin**4','xmin']])\n",
    "X_train.loc['fitted_pred',:] = reg.predict(x=X_train[['predicted_dist','predicted_dist**2','xmin**2', 'xmin**4','xmin']])\n",
    "reg = pd.stats.ols.OLS(y=y_train, x=X_train[['predicted_dist','predicted_dist**2']])\n",
    "X_train.loc['fitted_pred',:] = reg.predict(x=X_train[['predicted_dist','predicted_dist**2']])\n",
    "X_train.loc['fitted_resid',:] = X_train.fitted_pred - y_train\n",
    "reg"
   ]
  },
  {
   "cell_type": "code",
   "execution_count": 163,
   "metadata": {
    "collapsed": false
   },
   "outputs": [
    {
     "data": {
      "text/plain": [
       "<matplotlib.axes._subplots.AxesSubplot at 0x11408b210>"
      ]
     },
     "execution_count": 163,
     "metadata": {},
     "output_type": "execute_result"
    },
    {
     "data": {
      "image/png": "[encoded data removed]",
      "text/plain": [
       "<matplotlib.figure.Figure at 0x1142f0d10>"
      ]
     },
     "metadata": {},
     "output_type": "display_data"
    }
   ],
   "source": [
    "X_train.plot(x='xmin', y='fitted_resid', kind='scatter')"
   ]
  },
  {
   "cell_type": "code",
   "execution_count": 157,
   "metadata": {
    "collapsed": false
   },
   "outputs": [
    {
     "data": {
      "text/plain": [
       "<matplotlib.axes._subplots.AxesSubplot at 0x113df07d0>"
      ]
     },
     "execution_count": 157,
     "metadata": {},
     "output_type": "execute_result"
    },
    {
     "data": {
      "image/png": "[encoded data removed]",
      "text/plain": [
       "<matplotlib.figure.Figure at 0x113adc350>"
      ]
     },
     "metadata": {},
     "output_type": "display_data"
    }
   ],
   "source": [
    "X_test.loc['fitted_pred',:] = reg.predict(x=X_test[['predicted_dist','predicted_dist**2','xmin**2', 'xmin**4','xmin']])\n",
    "X_test.loc['fitted_resid',:] = X_test.fitted_pred - y_test\n",
    "X_test.plot(x='ymin', y='fitted_resid', kind='scatter')"
   ]
  }
 ],
 "metadata": {
  "kernelspec": {
   "display_name": "Python 2",
   "language": "python",
   "name": "python2"
  },
  "language_info": {
   "codemirror_mode": {
    "name": "ipython",
    "version": 2
   },
   "file_extension": ".py",
   "mimetype": "text/x-python",
   "name": "python",
   "nbconvert_exporter": "python",
   "pygments_lexer": "ipython2",
   "version": "2.7.9"
  }
 },
 "nbformat": 4,
 "nbformat_minor": 0
}
