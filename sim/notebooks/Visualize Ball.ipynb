{
 "cells": [
  {
   "cell_type": "code",
   "execution_count": 1,
   "metadata": {
    "collapsed": false
   },
   "outputs": [
    {
     "name": "stderr",
     "output_type": "stream",
     "text": [
      "/usr/local/lib/python3.5/site-packages/matplotlib/font_manager.py:273: UserWarning: Matplotlib is building the font cache using fc-list. This may take a moment.\n",
      "  warnings.warn('Matplotlib is building the font cache using fc-list. This may take a moment.')\n",
      "/usr/local/lib/python3.5/site-packages/matplotlib/font_manager.py:273: UserWarning: Matplotlib is building the font cache using fc-list. This may take a moment.\n",
      "  warnings.warn('Matplotlib is building the font cache using fc-list. This may take a moment.')\n"
     ]
    }
   ],
   "source": [
    "import sys\n",
    "\n",
    "sys.path.append(\"../src/\")\n",
    "import make_camera_coordinates as mcc\n",
    "import vectorized_trajectory as vt\n",
    "import project_points as pp\n",
    "import numpy as np\n",
    "import pandas as pd\n",
    "import matplotlib.pyplot as plt\n",
    "from brutils import pdutils as pdu\n",
    "%matplotlib inline\n",
    "import logging\n",
    "from ipywidgets import IntSlider, FloatSlider, interact\n",
    "\n",
    "logger = logging.getLogger()\n",
    "logger.setLevel(logging.CRITICAL)"
   ]
  },
  {
   "cell_type": "code",
   "execution_count": 2,
   "metadata": {
    "collapsed": true
   },
   "outputs": [],
   "source": [
    "\n",
    "\n",
    "camera_pos = (0, 4, -100)\n",
    "lookat_pos = (0,4,0)\n",
    "ball_start = (0, 4)\n",
    "ball_velocity_mph= 80\n",
    "ball_launch_angle_deg = 1\n",
    "\n"
   ]
  },
  {
   "cell_type": "code",
   "execution_count": null,
   "metadata": {
    "collapsed": true
   },
   "outputs": [],
   "source": []
  },
  {
   "cell_type": "code",
   "execution_count": 51,
   "metadata": {
    "collapsed": false
   },
   "outputs": [
    {
     "name": "stdout",
     "output_type": "stream",
     "text": [
      "7.840419947506561e-06\n",
      "[ 0.00416406  0.00740277]\n",
      "[ 5.32999317  5.32999317]\n"
     ]
    },
    {
     "data": {
      "text/plain": [
       "array([5, 5])"
      ]
     },
     "execution_count": 51,
     "metadata": {},
     "output_type": "execute_result"
    }
   ],
   "source": [
    "\n",
    "## camera coordinates\n",
    "CONVERSION_FACTOR = 0.3048\n",
    "\n",
    "def point_to_rng(x, y, z):\n",
    "    return [\n",
    "        (x, x, 1), (y, y, 1), (z, z, 1)\n",
    "    ]\n",
    "\n",
    "# camera constants for the iphone\n",
    "f  = 4.11/1000.\n",
    "W = 4.8/1000.\n",
    "H = 3.6 / 1000.   # http://photoseek.com/2013/compare-digital-camera-sensor-sizes-full-frame-35mm-aps-c-micro-four-thirds-1-inch-type/\n",
    "\n",
    "# from video: look at distance_calculation.xlsm \n",
    "f  = 1.92/1000.\n",
    "W = 1882.88/1000./1000.  #micrometers\n",
    "H = 1059.12 / 1000./1000. #micrometers\n",
    "\n",
    "\n",
    "\n",
    "c_dim = np.array([W, H])\n",
    "resolution = np.array([1280, 720],dtype='float64')\n",
    "baseball_diameter = 74.68 # mm \n",
    "baseball_diameter_m = baseball_diameter * 0.001\n",
    "\n",
    "#ball_size_ratio = .5 * f / xy / c_dim * resolution\n",
    "\n",
    "distance_to_size = lambda ft: (baseball_diameter_m / 2.) * f / (ft*CONVERSION_FACTOR) * 679809.65329708\n",
    "distance_to_size_m = lambda m: (baseball_diameter_m / 2.) * f / m * 679809.65329708\n",
    "\n",
    "def ball_size(distance, diameter=baseball_diameter_m):\n",
    "    xy = (diameter / 2.) * (f / distance)\n",
    "    print(xy)\n",
    "    pct_scr = xy / c_dim\n",
    "    print(pct_scr)\n",
    "    pixels = pct_scr * resolution\n",
    "    print(pixels)\n",
    "    return pixels\n",
    "    \n",
    "divider = c_dim * resolution\n",
    "\n",
    "def make_pic(x,y, resolution = resolution, size=5):\n",
    "    # TODO: Draw an arrow if it is off the screen\n",
    "    res = np.zeros(shape=(resolution[1], resolution[0]))\n",
    "    res[y-size:y+size, x-size:x+size] = 1\n",
    "    return res.astype('uint8')\n",
    "\n",
    "ball_size(30*CONVERSION_FACTOR).astype(int)"
   ]
  },
  {
   "cell_type": "code",
   "execution_count": 54,
   "metadata": {
    "collapsed": false
   },
   "outputs": [
    {
     "name": "stdout",
     "output_type": "stream",
     "text": [
      "10\n",
      "(1, 240, 1, 1, 2)\n",
      "4\n"
     ]
    },
    {
     "data": {
      "image/png": "[encoded data removed]",
      "text/plain": [
       "<matplotlib.figure.Figure at 0x7f592bf32e48>"
      ]
     },
     "metadata": {},
     "output_type": "display_data"
    }
   ],
   "source": [
    "def get_conf(y0_ft, v0_mph, launch_angle_deg):\n",
    "    ball_conf = {\"GRID_SPEC\": \n",
    "            [\n",
    "                {\"name\": \"y0\", \"spec\":[y0_ft, y0_ft, 1]},\n",
    "                {\"name\": \"v0\", \"spec\":[v0_mph, v0_mph, 1]},\n",
    "                {\"name\": \"launch_angle\", \"spec\":[launch_angle_deg, launch_angle_deg, 1]}\n",
    "            ]}\n",
    "    return vt.conditions_from_conf(ball_conf)\n",
    "\n",
    "def to_visualize(cam_x, cam_y, cam_z, la_x, la_y, la_z, ball_y0, v0, launch_angle_deg, frame):\n",
    "    \n",
    "    # ball simulation\n",
    "    initial_conditions = get_conf(ball_y0, v0, launch_angle_deg)\n",
    "    initial_conditions['name'] = \"nb\"\n",
    "    traj = vt.Trajectory(**initial_conditions)\n",
    "    ball_data = traj.solve_n_steps(int(240*1), 1/240.)[:]\n",
    "    # extrinsic matrix\n",
    "    args_c, args_p = (point_to_rng(*p) for p in [(cam_x, cam_y, cam_z), (la_x, la_y, la_z)])\n",
    "    C, P, ranges_C, ranges_P = mcc.gen_C_gen_P(args_c, args_p, conversion_factor=CONVERSION_FACTOR)\n",
    "    EX = mcc.get_extrinsic_matrix(C,P)\n",
    "    # project points\n",
    "    pitch_points = pp.xy_to_xyz_homogenous(ball_data[:,:,1:3])\n",
    "    camera_coordinates = np.tensordot(pitch_points, EX, axes=([2],[3]))\n",
    "    distances_m = np.linalg.norm(camera_coordinates, axis=4, ord=2).astype('uint16')\n",
    "    sizes = distance_to_size_m(distances_m)\n",
    "    #print(distances)\n",
    "    print(distances_m[0,frame,0,0])\n",
    "    xy = camera_coordinates[:,:,:,:,0:2] * (f / camera_coordinates[:,:,:,:,2, np.newaxis])\n",
    "\n",
    "    # length in terms of percent of screen\n",
    "    pct_scr = xy / c_dim\n",
    "\n",
    "    relative_pixels_from_center = (pct_scr * resolution)\n",
    "\n",
    "    final = (relative_pixels_from_center + resolution/2).astype('uint16')\n",
    "    print(final.shape)\n",
    "    to_show = final[0,frame,0,0,:]\n",
    "    size_to_show = sizes[0,frame,0,0].astype(int)\n",
    "    print(size_to_show)\n",
    "    plt.imshow(make_pic(to_show[0], to_show[1], resolution=(1280,720), size=size_to_show), cmap='Greys', origin = 'lower',)\n",
    "    plt.xticks([0])\n",
    "    plt.yticks([0])\n",
    "    #return to_show\n",
    "\n",
    "cam_x_widget = IntSlider(value=0, min=-50, max=100, step=1 )\n",
    "cam_y_widget = IntSlider(value=4, min=0, max=6, step=1 )\n",
    "cam_z_widget = IntSlider(value=-100, min=-200, max=-2, step=1 )\n",
    "la_x_widget = IntSlider(value=0, min=-20, max=60, step=1 )\n",
    "la_y_widget = IntSlider(value=6, min=-20, max=40, step=1 )\n",
    "la_z_widget = IntSlider(value=0, min=0, max=0, step=1 )\n",
    "ball_y0_widget = FloatSlider(value=6., min=4, max=7, step=0.2 )\n",
    "ball_v0_widget = FloatSlider(value=60., min=30., max=105., step=0.2 )\n",
    "launch_angle_widget = FloatSlider(value=1, min=-2, max=3., step=0.2 )\n",
    "frame_widget = IntSlider(value=0, min=0, max=240, step=1)\n",
    "\n",
    "_ = interact(to_visualize, cam_x=cam_x_widget, cam_y=cam_y_widget, cam_z=cam_z_widget,\n",
    "        la_x=la_x_widget, la_y=la_y_widget, la_z=la_z_widget, ball_y0=ball_y0_widget,\n",
    "        v0=ball_v0_widget, launch_angle_deg=launch_angle_widget, frame=frame_widget)"
   ]
  },
  {
   "cell_type": "code",
   "execution_count": 10,
   "metadata": {
    "collapsed": false
   },
   "outputs": [
    {
     "data": {
      "text/plain": [
       "<function __main__.to_visualize>"
      ]
     },
     "execution_count": 10,
     "metadata": {},
     "output_type": "execute_result"
    },
    {
     "data": {
      "image/png": "[encoded data removed]",
      "text/plain": [
       "<matplotlib.figure.Figure at 0x7f1209ded828>"
      ]
     },
     "metadata": {},
     "output_type": "display_data"
    }
   ],
   "source": [
    "\n",
    "interact(to_visualize, cam_x=cam_x_widget, cam_y=cam_y_widget, cam_z=cam_z_widget,\n",
    "        la_x=la_x_widget, la_y=la_y_widget, la_z=la_z_widget, ball_y0=ball_y0_widget,\n",
    "        v0=ball_v0_widget, launch_angle_deg=launch_angle_widget, frame=frame_widget)"
   ]
  },
  {
   "cell_type": "code",
   "execution_count": 11,
   "metadata": {
    "collapsed": false
   },
   "outputs": [],
   "source": [
    "initial_conditions = get_conf(ball_start[1], ball_velocity_mph, ball_launch_angle_deg)\n",
    "initial_conditions['name'] = \"nb\"\n",
    "traj = vt.Trajectory(**initial_conditions)\n",
    "ball_data = traj.solve_n_steps(int(240*1), 1/240.)[:]"
   ]
  },
  {
   "cell_type": "code",
   "execution_count": 23,
   "metadata": {
    "collapsed": false
   },
   "outputs": [
    {
     "data": {
      "text/plain": [
       "(1, 240, 8)"
      ]
     },
     "execution_count": 23,
     "metadata": {},
     "output_type": "execute_result"
    }
   ],
   "source": [
    "ball_data.shape"
   ]
  },
  {
   "cell_type": "code",
   "execution_count": 13,
   "metadata": {
    "collapsed": false
   },
   "outputs": [
    {
     "name": "stdout",
     "output_type": "stream",
     "text": [
      "[(0, 0, 1), (4, 4, 1), (-100, -100, 1)]\n",
      "[(0, 0, 1), (4, 4, 1), (0, 0, 1)]\n"
     ]
    }
   ],
   "source": [
    "\n",
    "## camera coordinates\n",
    "CONVERSION_FACTOR = 0.3048\n",
    "\n",
    "def point_to_rng(x, y, z):\n",
    "    return [\n",
    "        (x, x, 1), (y, y, 1), (z, z, 1)\n",
    "    ]\n",
    "\n",
    "args_c, args_p = (point_to_rng(*p) for p in [camera_pos, lookat_pos])\n",
    "print(args_c)\n",
    "print(args_p)"
   ]
  },
  {
   "cell_type": "code",
   "execution_count": 15,
   "metadata": {
    "collapsed": false
   },
   "outputs": [
    {
     "name": "stderr",
     "output_type": "stream",
     "text": [
      "../src/gen_grid_points.py:48: VisibleDeprecationWarning: using a non-integer number instead of an integer will result in an error in the future\n",
      "  cartesian(arrays[1:], out=out[0:m,1:])\n"
     ]
    }
   ],
   "source": [
    "C, P, ranges_C, ranges_P = mcc.gen_C_gen_P(args_c, args_p, conversion_factor=CONVERSION_FACTOR)"
   ]
  },
  {
   "cell_type": "code",
   "execution_count": 19,
   "metadata": {
    "collapsed": false
   },
   "outputs": [
    {
     "data": {
      "text/plain": [
       "array([[[[  1.    ,  -0.    ,  -0.    ,  -0.    ],\n",
       "         [  0.    ,   1.    ,  -0.    ,  -1.2192],\n",
       "         [  0.    ,   0.    ,   1.    ,  30.48  ]]]])"
      ]
     },
     "execution_count": 19,
     "metadata": {},
     "output_type": "execute_result"
    }
   ],
   "source": [
    "EX = mcc.get_extrinsic_matrix(C,P)\n",
    "EX"
   ]
  },
  {
   "cell_type": "code",
   "execution_count": 30,
   "metadata": {
    "collapsed": true
   },
   "outputs": [],
   "source": [
    "## project the points\n",
    "# camera constants for the iphone\n",
    "f  = 4.11/1000.\n",
    "W = 4.8/1000.\n",
    "H = 3.6 / 1000.   # http://photoseek.com/2013/compare-digital-camera-sensor-sizes-full-frame-35mm-aps-c-micro-four-thirds-1-inch-type/\n",
    "c_dim = np.array([W, H])\n",
    "resolution = np.array([1280, 720],dtype='float64')\n",
    "\n",
    "divider = c_dim * resolution\n",
    "pitch_points = pp.xy_to_xyz_homogenous(ball_data[:,:,1:3])\n"
   ]
  },
  {
   "cell_type": "code",
   "execution_count": 66,
   "metadata": {
    "collapsed": false
   },
   "outputs": [
    {
     "data": {
      "text/plain": [
       "array([[[  0.00000000e+00,   1.21920000e+00,   0.00000000e+00,\n",
       "           1.00000000e+00],\n",
       "        [  1.48990638e-01,   1.22171557e+00,   0.00000000e+00,\n",
       "           1.00000000e+00],\n",
       "        [  2.97979213e-01,   1.22406097e+00,   0.00000000e+00,\n",
       "           1.00000000e+00],\n",
       "        [  4.46963657e-01,   1.22623616e+00,   0.00000000e+00,\n",
       "           1.00000000e+00],\n",
       "        [  5.95943963e-01,   1.22824114e+00,   0.00000000e+00,\n",
       "           1.00000000e+00],\n",
       "        [  7.44920124e-01,   1.23007593e+00,   0.00000000e+00,\n",
       "           1.00000000e+00],\n",
       "        [  8.93892131e-01,   1.23174052e+00,   0.00000000e+00,\n",
       "           1.00000000e+00],\n",
       "        [  1.04285998e+00,   1.23323492e+00,   0.00000000e+00,\n",
       "           1.00000000e+00],\n",
       "        [  1.19182366e+00,   1.23455913e+00,   0.00000000e+00,\n",
       "           1.00000000e+00],\n",
       "        [  1.34078317e+00,   1.23571316e+00,   0.00000000e+00,\n",
       "           1.00000000e+00],\n",
       "        [  1.48973851e+00,   1.23669702e+00,   0.00000000e+00,\n",
       "           1.00000000e+00],\n",
       "        [  1.63868967e+00,   1.23751071e+00,   0.00000000e+00,\n",
       "           1.00000000e+00],\n",
       "        [  1.78763665e+00,   1.23815423e+00,   0.00000000e+00,\n",
       "           1.00000000e+00],\n",
       "        [  1.93657944e+00,   1.23862759e+00,   0.00000000e+00,\n",
       "           1.00000000e+00],\n",
       "        [  2.08551804e+00,   1.23893079e+00,   0.00000000e+00,\n",
       "           1.00000000e+00],\n",
       "        [  2.23445245e+00,   1.23906384e+00,   0.00000000e+00,\n",
       "           1.00000000e+00],\n",
       "        [  2.38338267e+00,   1.23902674e+00,   0.00000000e+00,\n",
       "           1.00000000e+00],\n",
       "        [  2.53230870e+00,   1.23881950e+00,   0.00000000e+00,\n",
       "           1.00000000e+00],\n",
       "        [  2.68123054e+00,   1.23844212e+00,   0.00000000e+00,\n",
       "           1.00000000e+00],\n",
       "        [  2.83014819e+00,   1.23789461e+00,   0.00000000e+00,\n",
       "           1.00000000e+00],\n",
       "        [  2.97906165e+00,   1.23717697e+00,   0.00000000e+00,\n",
       "           1.00000000e+00],\n",
       "        [  3.12797092e+00,   1.23628920e+00,   0.00000000e+00,\n",
       "           1.00000000e+00],\n",
       "        [  3.27687600e+00,   1.23523132e+00,   0.00000000e+00,\n",
       "           1.00000000e+00],\n",
       "        [  3.42577690e+00,   1.23400332e+00,   0.00000000e+00,\n",
       "           1.00000000e+00],\n",
       "        [  3.57467363e+00,   1.23260522e+00,   0.00000000e+00,\n",
       "           1.00000000e+00],\n",
       "        [  3.72356617e+00,   1.23103701e+00,   0.00000000e+00,\n",
       "           1.00000000e+00],\n",
       "        [  3.87245455e+00,   1.22929870e+00,   0.00000000e+00,\n",
       "           1.00000000e+00],\n",
       "        [  4.02133875e+00,   1.22739030e+00,   0.00000000e+00,\n",
       "           1.00000000e+00],\n",
       "        [  4.17021880e+00,   1.22531180e+00,   0.00000000e+00,\n",
       "           1.00000000e+00],\n",
       "        [  4.31909470e+00,   1.22306322e+00,   0.00000000e+00,\n",
       "           1.00000000e+00],\n",
       "        [  4.46796644e+00,   1.22064456e+00,   0.00000000e+00,\n",
       "           1.00000000e+00],\n",
       "        [  4.61683405e+00,   1.21805582e+00,   0.00000000e+00,\n",
       "           1.00000000e+00],\n",
       "        [  4.76569753e+00,   1.21529701e+00,   0.00000000e+00,\n",
       "           1.00000000e+00],\n",
       "        [  4.91455688e+00,   1.21236813e+00,   0.00000000e+00,\n",
       "           1.00000000e+00],\n",
       "        [  5.06341212e+00,   1.20926919e+00,   0.00000000e+00,\n",
       "           1.00000000e+00],\n",
       "        [  5.21226325e+00,   1.20600020e+00,   0.00000000e+00,\n",
       "           1.00000000e+00],\n",
       "        [  5.36111029e+00,   1.20256114e+00,   0.00000000e+00,\n",
       "           1.00000000e+00],\n",
       "        [  5.50995325e+00,   1.19895204e+00,   0.00000000e+00,\n",
       "           1.00000000e+00],\n",
       "        [  5.65879214e+00,   1.19517290e+00,   0.00000000e+00,\n",
       "           1.00000000e+00],\n",
       "        [  5.80762696e+00,   1.19122371e+00,   0.00000000e+00,\n",
       "           1.00000000e+00],\n",
       "        [  5.95645774e+00,   1.18710449e+00,   0.00000000e+00,\n",
       "           1.00000000e+00],\n",
       "        [  6.10528449e+00,   1.18281524e+00,   0.00000000e+00,\n",
       "           1.00000000e+00],\n",
       "        [  6.25410721e+00,   1.17835595e+00,   0.00000000e+00,\n",
       "           1.00000000e+00],\n",
       "        [  6.40292593e+00,   1.17372665e+00,   0.00000000e+00,\n",
       "           1.00000000e+00],\n",
       "        [  6.55174066e+00,   1.16892733e+00,   0.00000000e+00,\n",
       "           1.00000000e+00],\n",
       "        [  6.70055142e+00,   1.16395799e+00,   0.00000000e+00,\n",
       "           1.00000000e+00],\n",
       "        [  6.84935821e+00,   1.15881864e+00,   0.00000000e+00,\n",
       "           1.00000000e+00],\n",
       "        [  6.99816106e+00,   1.15350928e+00,   0.00000000e+00,\n",
       "           1.00000000e+00],\n",
       "        [  7.14695999e+00,   1.14802992e+00,   0.00000000e+00,\n",
       "           1.00000000e+00],\n",
       "        [  7.29575501e+00,   1.14238056e+00,   0.00000000e+00,\n",
       "           1.00000000e+00],\n",
       "        [  7.44454613e+00,   1.13656120e+00,   0.00000000e+00,\n",
       "           1.00000000e+00],\n",
       "        [  7.59333339e+00,   1.13057185e+00,   0.00000000e+00,\n",
       "           1.00000000e+00],\n",
       "        [  7.74211680e+00,   1.12441251e+00,   0.00000000e+00,\n",
       "           1.00000000e+00],\n",
       "        [  7.89089638e+00,   1.11808319e+00,   0.00000000e+00,\n",
       "           1.00000000e+00],\n",
       "        [  8.03967214e+00,   1.11158389e+00,   0.00000000e+00,\n",
       "           1.00000000e+00],\n",
       "        [  8.18844412e+00,   1.10491461e+00,   0.00000000e+00,\n",
       "           1.00000000e+00],\n",
       "        [  8.33721233e+00,   1.09807536e+00,   0.00000000e+00,\n",
       "           1.00000000e+00],\n",
       "        [  8.48597679e+00,   1.09106613e+00,   0.00000000e+00,\n",
       "           1.00000000e+00],\n",
       "        [  8.63473753e+00,   1.08388694e+00,   0.00000000e+00,\n",
       "           1.00000000e+00],\n",
       "        [  8.78349458e+00,   1.07653778e+00,   0.00000000e+00,\n",
       "           1.00000000e+00],\n",
       "        [  8.93224795e+00,   1.06901866e+00,   0.00000000e+00,\n",
       "           1.00000000e+00],\n",
       "        [  9.08099767e+00,   1.06132958e+00,   0.00000000e+00,\n",
       "           1.00000000e+00],\n",
       "        [  9.22974376e+00,   1.05347055e+00,   0.00000000e+00,\n",
       "           1.00000000e+00],\n",
       "        [  9.37848626e+00,   1.04544156e+00,   0.00000000e+00,\n",
       "           1.00000000e+00],\n",
       "        [  9.52722518e+00,   1.03724262e+00,   0.00000000e+00,\n",
       "           1.00000000e+00],\n",
       "        [  9.67596056e+00,   1.02887374e+00,   0.00000000e+00,\n",
       "           1.00000000e+00],\n",
       "        [  9.82469241e+00,   1.02033491e+00,   0.00000000e+00,\n",
       "           1.00000000e+00],\n",
       "        [  9.97342078e+00,   1.01162614e+00,   0.00000000e+00,\n",
       "           1.00000000e+00],\n",
       "        [  1.01221457e+01,   1.00274743e+00,   0.00000000e+00,\n",
       "           1.00000000e+00],\n",
       "        [  1.02708672e+01,   9.93698777e-01,   0.00000000e+00,\n",
       "           1.00000000e+00],\n",
       "        [  1.04195852e+01,   9.84480192e-01,   0.00000000e+00,\n",
       "           1.00000000e+00],\n",
       "        [  1.05682999e+01,   9.75091672e-01,   0.00000000e+00,\n",
       "           1.00000000e+00],\n",
       "        [  1.07170113e+01,   9.65533221e-01,   0.00000000e+00,\n",
       "           1.00000000e+00],\n",
       "        [  1.08657193e+01,   9.55804840e-01,   0.00000000e+00,\n",
       "           1.00000000e+00],\n",
       "        [  1.10144241e+01,   9.45906531e-01,   0.00000000e+00,\n",
       "           1.00000000e+00],\n",
       "        [  1.11631256e+01,   9.35838295e-01,   0.00000000e+00,\n",
       "           1.00000000e+00],\n",
       "        [  1.13118240e+01,   9.25600134e-01,   0.00000000e+00,\n",
       "           1.00000000e+00],\n",
       "        [  1.14605191e+01,   9.15192049e-01,   0.00000000e+00,\n",
       "           1.00000000e+00],\n",
       "        [  1.16092111e+01,   9.04614042e-01,   0.00000000e+00,\n",
       "           1.00000000e+00],\n",
       "        [  1.17579000e+01,   8.93866114e-01,   0.00000000e+00,\n",
       "           1.00000000e+00],\n",
       "        [  1.19065858e+01,   8.82948265e-01,   0.00000000e+00,\n",
       "           1.00000000e+00],\n",
       "        [  1.20552686e+01,   8.71860497e-01,   0.00000000e+00,\n",
       "           1.00000000e+00],\n",
       "        [  1.22039483e+01,   8.60602810e-01,   0.00000000e+00,\n",
       "           1.00000000e+00],\n",
       "        [  1.23526252e+01,   8.49175205e-01,   0.00000000e+00,\n",
       "           1.00000000e+00],\n",
       "        [  1.25012990e+01,   8.37577683e-01,   0.00000000e+00,\n",
       "           1.00000000e+00],\n",
       "        [  1.26499700e+01,   8.25810244e-01,   0.00000000e+00,\n",
       "           1.00000000e+00],\n",
       "        [  1.27986382e+01,   8.13872888e-01,   0.00000000e+00,\n",
       "           1.00000000e+00],\n",
       "        [  1.29473035e+01,   8.01765616e-01,   0.00000000e+00,\n",
       "           1.00000000e+00],\n",
       "        [  1.30959661e+01,   7.89488427e-01,   0.00000000e+00,\n",
       "           1.00000000e+00],\n",
       "        [  1.32446260e+01,   7.77041321e-01,   0.00000000e+00,\n",
       "           1.00000000e+00],\n",
       "        [  1.33932831e+01,   7.64424298e-01,   0.00000000e+00,\n",
       "           1.00000000e+00],\n",
       "        [  1.35419376e+01,   7.51637358e-01,   0.00000000e+00,\n",
       "           1.00000000e+00],\n",
       "        [  1.36905895e+01,   7.38680500e-01,   0.00000000e+00,\n",
       "           1.00000000e+00],\n",
       "        [  1.38392389e+01,   7.25553723e-01,   0.00000000e+00,\n",
       "           1.00000000e+00],\n",
       "        [  1.39878857e+01,   7.12257026e-01,   0.00000000e+00,\n",
       "           1.00000000e+00],\n",
       "        [  1.41365301e+01,   6.98790409e-01,   0.00000000e+00,\n",
       "           1.00000000e+00],\n",
       "        [  1.42851720e+01,   6.85153870e-01,   0.00000000e+00,\n",
       "           1.00000000e+00],\n",
       "        [  1.44338116e+01,   6.71347408e-01,   0.00000000e+00,\n",
       "           1.00000000e+00],\n",
       "        [  1.45824488e+01,   6.57371022e-01,   0.00000000e+00,\n",
       "           1.00000000e+00],\n",
       "        [  1.47310837e+01,   6.43224709e-01,   0.00000000e+00,\n",
       "           1.00000000e+00],\n",
       "        [  1.48797164e+01,   6.28908468e-01,   0.00000000e+00,\n",
       "           1.00000000e+00],\n",
       "        [  1.50283469e+01,   6.14422297e-01,   0.00000000e+00,\n",
       "           1.00000000e+00],\n",
       "        [  1.51769753e+01,   5.99766194e-01,   0.00000000e+00,\n",
       "           1.00000000e+00],\n",
       "        [  1.53256015e+01,   5.84940157e-01,   0.00000000e+00,\n",
       "           1.00000000e+00],\n",
       "        [  1.54742257e+01,   5.69944183e-01,   0.00000000e+00,\n",
       "           1.00000000e+00],\n",
       "        [  1.56228479e+01,   5.54778270e-01,   0.00000000e+00,\n",
       "           1.00000000e+00],\n",
       "        [  1.57714681e+01,   5.39442414e-01,   0.00000000e+00,\n",
       "           1.00000000e+00],\n",
       "        [  1.59200865e+01,   5.23936614e-01,   0.00000000e+00,\n",
       "           1.00000000e+00],\n",
       "        [  1.60687030e+01,   5.08260864e-01,   0.00000000e+00,\n",
       "           1.00000000e+00],\n",
       "        [  1.62173177e+01,   4.92415164e-01,   0.00000000e+00,\n",
       "           1.00000000e+00],\n",
       "        [  1.63659307e+01,   4.76399508e-01,   0.00000000e+00,\n",
       "           1.00000000e+00],\n",
       "        [  1.65145419e+01,   4.60213893e-01,   0.00000000e+00,\n",
       "           1.00000000e+00],\n",
       "        [  1.66631516e+01,   4.43858316e-01,   0.00000000e+00,\n",
       "           1.00000000e+00],\n",
       "        [  1.68117596e+01,   4.27332772e-01,   0.00000000e+00,\n",
       "           1.00000000e+00],\n",
       "        [  1.69603662e+01,   4.10637256e-01,   0.00000000e+00,\n",
       "           1.00000000e+00],\n",
       "        [  1.71089712e+01,   3.93771766e-01,   0.00000000e+00,\n",
       "           1.00000000e+00],\n",
       "        [  1.72575749e+01,   3.76736295e-01,   0.00000000e+00,\n",
       "           1.00000000e+00],\n",
       "        [  1.74061772e+01,   3.59530840e-01,   0.00000000e+00,\n",
       "           1.00000000e+00],\n",
       "        [  1.75547781e+01,   3.42155395e-01,   0.00000000e+00,\n",
       "           1.00000000e+00],\n",
       "        [  1.77033779e+01,   3.24609955e-01,   0.00000000e+00,\n",
       "           1.00000000e+00],\n",
       "        [  1.78519765e+01,   3.06894514e-01,   0.00000000e+00,\n",
       "           1.00000000e+00],\n",
       "        [  1.80005739e+01,   2.89009067e-01,   0.00000000e+00,\n",
       "           1.00000000e+00],\n",
       "        [  1.81491703e+01,   2.70953609e-01,   0.00000000e+00,\n",
       "           1.00000000e+00],\n",
       "        [  1.82977656e+01,   2.52728133e-01,   0.00000000e+00,\n",
       "           1.00000000e+00],\n",
       "        [  1.84463601e+01,   2.34332632e-01,   0.00000000e+00,\n",
       "           1.00000000e+00],\n",
       "        [  1.85949536e+01,   2.15767101e-01,   0.00000000e+00,\n",
       "           1.00000000e+00],\n",
       "        [  1.87435463e+01,   1.97031533e-01,   0.00000000e+00,\n",
       "           1.00000000e+00],\n",
       "        [  1.88921383e+01,   1.78125921e-01,   0.00000000e+00,\n",
       "           1.00000000e+00],\n",
       "        [  1.90407295e+01,   1.59050258e-01,   0.00000000e+00,\n",
       "           1.00000000e+00],\n",
       "        [  1.91893202e+01,   1.39804536e-01,   0.00000000e+00,\n",
       "           1.00000000e+00],\n",
       "        [  1.93379102e+01,   1.20388749e-01,   0.00000000e+00,\n",
       "           1.00000000e+00],\n",
       "        [  1.94864998e+01,   1.00802888e-01,   0.00000000e+00,\n",
       "           1.00000000e+00],\n",
       "        [  1.96350889e+01,   8.10469450e-02,   0.00000000e+00,\n",
       "           1.00000000e+00],\n",
       "        [  1.97836776e+01,   6.11209127e-02,   0.00000000e+00,\n",
       "           1.00000000e+00],\n",
       "        [  1.99322660e+01,   4.10247823e-02,   0.00000000e+00,\n",
       "           1.00000000e+00],\n",
       "        [  2.00808542e+01,   2.07585453e-02,   0.00000000e+00,\n",
       "           1.00000000e+00],\n",
       "        [  2.02294423e+01,   3.22192559e-04,   0.00000000e+00,\n",
       "           1.00000000e+00],\n",
       "        [  2.03780302e+01,  -2.02842848e-02,   0.00000000e+00,\n",
       "           1.00000000e+00],\n",
       "        [  2.05266181e+01,  -4.10608962e-02,   0.00000000e+00,\n",
       "           1.00000000e+00],\n",
       "        [  2.06752060e+01,  -6.20076512e-02,   0.00000000e+00,\n",
       "           1.00000000e+00],\n",
       "        [  2.08237940e+01,  -8.31245596e-02,   0.00000000e+00,\n",
       "           1.00000000e+00],\n",
       "        [  2.09723822e+01,  -1.04411631e-01,   0.00000000e+00,\n",
       "           1.00000000e+00],\n",
       "        [  2.11209706e+01,  -1.25868877e-01,   0.00000000e+00,\n",
       "           1.00000000e+00],\n",
       "        [  2.12695594e+01,  -1.47496307e-01,   0.00000000e+00,\n",
       "           1.00000000e+00],\n",
       "        [  2.14181485e+01,  -1.69293931e-01,   0.00000000e+00,\n",
       "           1.00000000e+00],\n",
       "        [  2.15667381e+01,  -1.91261762e-01,   0.00000000e+00,\n",
       "           1.00000000e+00],\n",
       "        [  2.17153283e+01,  -2.13399810e-01,   0.00000000e+00,\n",
       "           1.00000000e+00],\n",
       "        [  2.18639190e+01,  -2.35708087e-01,   0.00000000e+00,\n",
       "           1.00000000e+00],\n",
       "        [  2.20125104e+01,  -2.58186605e-01,   0.00000000e+00,\n",
       "           1.00000000e+00],\n",
       "        [  2.21611026e+01,  -2.80835375e-01,   0.00000000e+00,\n",
       "           1.00000000e+00],\n",
       "        [  2.23096957e+01,  -3.03654411e-01,   0.00000000e+00,\n",
       "           1.00000000e+00],\n",
       "        [  2.24582896e+01,  -3.26643724e-01,   0.00000000e+00,\n",
       "           1.00000000e+00],\n",
       "        [  2.26068845e+01,  -3.49803327e-01,   0.00000000e+00,\n",
       "           1.00000000e+00],\n",
       "        [  2.27554805e+01,  -3.73133234e-01,   0.00000000e+00,\n",
       "           1.00000000e+00],\n",
       "        [  2.29040776e+01,  -3.96633458e-01,   0.00000000e+00,\n",
       "           1.00000000e+00],\n",
       "        [  2.30526759e+01,  -4.20304012e-01,   0.00000000e+00,\n",
       "           1.00000000e+00],\n",
       "        [  2.32012756e+01,  -4.44144910e-01,   0.00000000e+00,\n",
       "           1.00000000e+00],\n",
       "        [  2.33498766e+01,  -4.68156167e-01,   0.00000000e+00,\n",
       "           1.00000000e+00],\n",
       "        [  2.34984791e+01,  -4.92337797e-01,   0.00000000e+00,\n",
       "           1.00000000e+00],\n",
       "        [  2.36470831e+01,  -5.16689815e-01,   0.00000000e+00,\n",
       "           1.00000000e+00],\n",
       "        [  2.37956887e+01,  -5.41212235e-01,   0.00000000e+00,\n",
       "           1.00000000e+00],\n",
       "        [  2.39442961e+01,  -5.65905073e-01,   0.00000000e+00,\n",
       "           1.00000000e+00],\n",
       "        [  2.40929052e+01,  -5.90768345e-01,   0.00000000e+00,\n",
       "           1.00000000e+00],\n",
       "        [  2.42415162e+01,  -6.15802067e-01,   0.00000000e+00,\n",
       "           1.00000000e+00],\n",
       "        [  2.43901292e+01,  -6.41006253e-01,   0.00000000e+00,\n",
       "           1.00000000e+00],\n",
       "        [  2.45387442e+01,  -6.66380922e-01,   0.00000000e+00,\n",
       "           1.00000000e+00],\n",
       "        [  2.46873613e+01,  -6.91926089e-01,   0.00000000e+00,\n",
       "           1.00000000e+00],\n",
       "        [  2.48359806e+01,  -7.17641773e-01,   0.00000000e+00,\n",
       "           1.00000000e+00],\n",
       "        [  2.49846022e+01,  -7.43527989e-01,   0.00000000e+00,\n",
       "           1.00000000e+00],\n",
       "        [  2.51332262e+01,  -7.69584755e-01,   0.00000000e+00,\n",
       "           1.00000000e+00],\n",
       "        [  2.52818526e+01,  -7.95812090e-01,   0.00000000e+00,\n",
       "           1.00000000e+00],\n",
       "        [  2.54304816e+01,  -8.22210012e-01,   0.00000000e+00,\n",
       "           1.00000000e+00],\n",
       "        [  2.55791133e+01,  -8.48778539e-01,   0.00000000e+00,\n",
       "           1.00000000e+00],\n",
       "        [  2.57277477e+01,  -8.75517690e-01,   0.00000000e+00,\n",
       "           1.00000000e+00],\n",
       "        [  2.58763849e+01,  -9.02427485e-01,   0.00000000e+00,\n",
       "           1.00000000e+00],\n",
       "        [  2.60250250e+01,  -9.29507941e-01,   0.00000000e+00,\n",
       "           1.00000000e+00],\n",
       "        [  2.61736681e+01,  -9.56759080e-01,   0.00000000e+00,\n",
       "           1.00000000e+00],\n",
       "        [  2.63223143e+01,  -9.84180922e-01,   0.00000000e+00,\n",
       "           1.00000000e+00],\n",
       "        [  2.64709637e+01,  -1.01177349e+00,   0.00000000e+00,\n",
       "           1.00000000e+00],\n",
       "        [  2.66196163e+01,  -1.03953679e+00,   0.00000000e+00,\n",
       "           1.00000000e+00],\n",
       "        [  2.67682724e+01,  -1.06747086e+00,   0.00000000e+00,\n",
       "           1.00000000e+00],\n",
       "        [  2.69169319e+01,  -1.09557572e+00,   0.00000000e+00,\n",
       "           1.00000000e+00],\n",
       "        [  2.70655949e+01,  -1.12385139e+00,   0.00000000e+00,\n",
       "           1.00000000e+00],\n",
       "        [  2.72142616e+01,  -1.15229788e+00,   0.00000000e+00,\n",
       "           1.00000000e+00],\n",
       "        [  2.73629321e+01,  -1.18091523e+00,   0.00000000e+00,\n",
       "           1.00000000e+00],\n",
       "        [  2.75116064e+01,  -1.20970345e+00,   0.00000000e+00,\n",
       "           1.00000000e+00],\n",
       "        [  2.76602846e+01,  -1.23866256e+00,   0.00000000e+00,\n",
       "           1.00000000e+00],\n",
       "        [  2.78089669e+01,  -1.26779260e+00,   0.00000000e+00,\n",
       "           1.00000000e+00],\n",
       "        [  2.79576533e+01,  -1.29709358e+00,   0.00000000e+00,\n",
       "           1.00000000e+00],\n",
       "        [  2.81063439e+01,  -1.32656554e+00,   0.00000000e+00,\n",
       "           1.00000000e+00],\n",
       "        [  2.82550389e+01,  -1.35620848e+00,   0.00000000e+00,\n",
       "           1.00000000e+00],\n",
       "        [  2.84037383e+01,  -1.38602244e+00,   0.00000000e+00,\n",
       "           1.00000000e+00],\n",
       "        [  2.85524422e+01,  -1.41600744e+00,   0.00000000e+00,\n",
       "           1.00000000e+00],\n",
       "        [  2.87011508e+01,  -1.44616351e+00,   0.00000000e+00,\n",
       "           1.00000000e+00],\n",
       "        [  2.88498641e+01,  -1.47649067e+00,   0.00000000e+00,\n",
       "           1.00000000e+00],\n",
       "        [  2.89985822e+01,  -1.50698895e+00,   0.00000000e+00,\n",
       "           1.00000000e+00],\n",
       "        [  2.91473053e+01,  -1.53765838e+00,   0.00000000e+00,\n",
       "           1.00000000e+00],\n",
       "        [  2.92960334e+01,  -1.56849898e+00,   0.00000000e+00,\n",
       "           1.00000000e+00],\n",
       "        [  2.94447667e+01,  -1.59951078e+00,   0.00000000e+00,\n",
       "           1.00000000e+00],\n",
       "        [  2.95935052e+01,  -1.63069380e+00,   0.00000000e+00,\n",
       "           1.00000000e+00],\n",
       "        [  2.97422490e+01,  -1.66204808e+00,   0.00000000e+00,\n",
       "           1.00000000e+00],\n",
       "        [  2.98909983e+01,  -1.69357365e+00,   0.00000000e+00,\n",
       "           1.00000000e+00],\n",
       "        [  3.00397532e+01,  -1.72527052e+00,   0.00000000e+00,\n",
       "           1.00000000e+00],\n",
       "        [  3.01885137e+01,  -1.75713874e+00,   0.00000000e+00,\n",
       "           1.00000000e+00],\n",
       "        [  3.03372800e+01,  -1.78917832e+00,   0.00000000e+00,\n",
       "           1.00000000e+00],\n",
       "        [  3.04860522e+01,  -1.82138931e+00,   0.00000000e+00,\n",
       "           1.00000000e+00],\n",
       "        [  3.06348304e+01,  -1.85377172e+00,   0.00000000e+00,\n",
       "           1.00000000e+00],\n",
       "        [  3.07836147e+01,  -1.88632559e+00,   0.00000000e+00,\n",
       "           1.00000000e+00],\n",
       "        [  3.09324052e+01,  -1.91905096e+00,   0.00000000e+00,\n",
       "           1.00000000e+00],\n",
       "        [  3.10812020e+01,  -1.95194784e+00,   0.00000000e+00,\n",
       "           1.00000000e+00],\n",
       "        [  3.12300052e+01,  -1.98501628e+00,   0.00000000e+00,\n",
       "           1.00000000e+00],\n",
       "        [  3.13788150e+01,  -2.01825631e+00,   0.00000000e+00,\n",
       "           1.00000000e+00],\n",
       "        [  3.15276315e+01,  -2.05166795e+00,   0.00000000e+00,\n",
       "           1.00000000e+00],\n",
       "        [  3.16764547e+01,  -2.08525124e+00,   0.00000000e+00,\n",
       "           1.00000000e+00],\n",
       "        [  3.18252848e+01,  -2.11900621e+00,   0.00000000e+00,\n",
       "           1.00000000e+00],\n",
       "        [  3.19741218e+01,  -2.15293290e+00,   0.00000000e+00,\n",
       "           1.00000000e+00],\n",
       "        [  3.21229660e+01,  -2.18703135e+00,   0.00000000e+00,\n",
       "           1.00000000e+00],\n",
       "        [  3.22718174e+01,  -2.22130157e+00,   0.00000000e+00,\n",
       "           1.00000000e+00],\n",
       "        [  3.24206762e+01,  -2.25574362e+00,   0.00000000e+00,\n",
       "           1.00000000e+00],\n",
       "        [  3.25695424e+01,  -2.29035752e+00,   0.00000000e+00,\n",
       "           1.00000000e+00],\n",
       "        [  3.27184161e+01,  -2.32514331e+00,   0.00000000e+00,\n",
       "           1.00000000e+00],\n",
       "        [  3.28672976e+01,  -2.36010103e+00,   0.00000000e+00,\n",
       "           1.00000000e+00],\n",
       "        [  3.30161868e+01,  -2.39523071e+00,   0.00000000e+00,\n",
       "           1.00000000e+00],\n",
       "        [  3.31650840e+01,  -2.43053239e+00,   0.00000000e+00,\n",
       "           1.00000000e+00],\n",
       "        [  3.33139892e+01,  -2.46600611e+00,   0.00000000e+00,\n",
       "           1.00000000e+00],\n",
       "        [  3.34629026e+01,  -2.50165190e+00,   0.00000000e+00,\n",
       "           1.00000000e+00],\n",
       "        [  3.36118242e+01,  -2.53746980e+00,   0.00000000e+00,\n",
       "           1.00000000e+00],\n",
       "        [  3.37607543e+01,  -2.57345985e+00,   0.00000000e+00,\n",
       "           1.00000000e+00],\n",
       "        [  3.39096929e+01,  -2.60962209e+00,   0.00000000e+00,\n",
       "           1.00000000e+00],\n",
       "        [  3.40586401e+01,  -2.64595655e+00,   0.00000000e+00,\n",
       "           1.00000000e+00],\n",
       "        [  3.42075961e+01,  -2.68246329e+00,   0.00000000e+00,\n",
       "           1.00000000e+00],\n",
       "        [  3.43565610e+01,  -2.71914233e+00,   0.00000000e+00,\n",
       "           1.00000000e+00],\n",
       "        [  3.45055349e+01,  -2.75599372e+00,   0.00000000e+00,\n",
       "           1.00000000e+00],\n",
       "        [  3.46545179e+01,  -2.79301750e+00,   0.00000000e+00,\n",
       "           1.00000000e+00],\n",
       "        [  3.48035102e+01,  -2.83021371e+00,   0.00000000e+00,\n",
       "           1.00000000e+00],\n",
       "        [  3.49525119e+01,  -2.86758240e+00,   0.00000000e+00,\n",
       "           1.00000000e+00],\n",
       "        [  3.51015231e+01,  -2.90512359e+00,   0.00000000e+00,\n",
       "           1.00000000e+00],\n",
       "        [  3.52505439e+01,  -2.94283735e+00,   0.00000000e+00,\n",
       "           1.00000000e+00],\n",
       "        [  3.53995746e+01,  -2.98072370e+00,   0.00000000e+00,\n",
       "           1.00000000e+00],\n",
       "        [  3.55486151e+01,  -3.01878270e+00,   0.00000000e+00,\n",
       "           1.00000000e+00]]])"
      ]
     },
     "execution_count": 66,
     "metadata": {},
     "output_type": "execute_result"
    }
   ],
   "source": [
    "pitch_points"
   ]
  },
  {
   "cell_type": "code",
   "execution_count": 68,
   "metadata": {
    "collapsed": true
   },
   "outputs": [],
   "source": [
    "camera_coordinates = np.tensordot(pitch_points, EX, axes=([2],[3]))\n",
    "xy = camera_coordinates[:,:,:,:,0:2] * (f / camera_coordinates[:,:,:,:,2, np.newaxis])\n",
    "\n",
    "# length in terms of percent of screen\n",
    "pct_scr = xy / c_dim\n",
    "\n",
    "relative_pixels_from_center = (pct_scr * resolution)\n",
    "\n",
    "final = (relative_pixels_from_center + resolution/2).astype('uint16')\n",
    "to_show = final[0,:,0,0,:]\n",
    "\n",
    "num_frames = to_show.shape[0]\n"
   ]
  },
  {
   "cell_type": "code",
   "execution_count": 72,
   "metadata": {
    "collapsed": true
   },
   "outputs": [],
   "source": [
    "def make_pic(x,y, resolution = resolution, size=5):\n",
    "    res = np.zeros(shape=(resolution[1], resolution[0]))\n",
    "    res[y-size:y+size, x-size:x+size] = 1\n",
    "    return res.astype('uint8')"
   ]
  },
  {
   "cell_type": "code",
   "execution_count": 73,
   "metadata": {
    "collapsed": false
   },
   "outputs": [
    {
     "data": {
      "text/plain": [
       "<matplotlib.image.AxesImage at 0x7fd38daaa8d0>"
      ]
     },
     "execution_count": 73,
     "metadata": {},
     "output_type": "execute_result"
    },
    {
     "data": {
      "image/png": "[encoded data removed]",
      "text/plain": [
       "<matplotlib.figure.Figure at 0x7fd38db4a390>"
      ]
     },
     "metadata": {},
     "output_type": "display_data"
    }
   ],
   "source": [
    "plt.imshow(make_pic(600, 358, resolution=(1280,720)), cmap='Greys')"
   ]
  },
  {
   "cell_type": "code",
   "execution_count": 62,
   "metadata": {
    "collapsed": false
   },
   "outputs": [
    {
     "data": {
      "text/plain": [
       "array([[0, 0, 0, 0, 0, 0, 0, 0],\n",
       "       [0, 1, 0, 0, 0, 0, 0, 0],\n",
       "       [0, 0, 0, 0, 0, 0, 0, 0]], dtype=uint8)"
      ]
     },
     "execution_count": 62,
     "metadata": {},
     "output_type": "execute_result"
    }
   ],
   "source": [
    "make_pic(1,1, resolution=(8,3))"
   ]
  },
  {
   "cell_type": "code",
   "execution_count": null,
   "metadata": {
    "collapsed": true
   },
   "outputs": [],
   "source": [
    "plt.imshow()"
   ]
  }
 ],
 "metadata": {
  "kernelspec": {
   "display_name": "Python 3",
   "language": "python",
   "name": "python3"
  },
  "language_info": {
   "codemirror_mode": {
    "name": "ipython",
    "version": 3
   },
   "file_extension": ".py",
   "mimetype": "text/x-python",
   "name": "python",
   "nbconvert_exporter": "python",
   "pygments_lexer": "ipython3",
   "version": "3.5.2"
  },
  "widgets": {
   "state": {
    "e3eaaa18f5844f5c9304fb40260194d0": {
     "views": [
      {
       "cell_index": 5
      }
     ]
    }
   },
   "version": "1.2.0"
  }
 },
 "nbformat": 4,
 "nbformat_minor": 1
}
