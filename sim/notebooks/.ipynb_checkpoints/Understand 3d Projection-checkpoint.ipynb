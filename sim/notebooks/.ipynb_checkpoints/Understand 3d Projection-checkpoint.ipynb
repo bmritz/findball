{
 "cells": [
  {
   "cell_type": "code",
   "execution_count": 1,
   "metadata": {
    "collapsed": true
   },
   "outputs": [],
   "source": [
    "import cv2\n",
    "import pandas as pd\n",
    "import numpy as np"
   ]
  },
  {
   "cell_type": "code",
   "execution_count": 149,
   "metadata": {
    "collapsed": false
   },
   "outputs": [],
   "source": [
    "def rotate_x(theta_x):\n",
    "    r1 = [1,0,0,0]\n",
    "    r2 = [0, np.cos(theta_x), -np.sin(theta_x), 0]\n",
    "    \n",
    "    r3 = [0, np.sin(theta_x), np.cos(theta_x), 0]\n",
    "    \n",
    "    r4 = [0,0,0,1]\n",
    "    return np.array([r1,r2,r3,r4])\n",
    "\n",
    "def rotate_y(theta_y):\n",
    "    r1 = [np.cos(theta_y), 0, np.sin(theta_y), 0]\n",
    "    r2 = [0, 1, 0, 0]\n",
    "    \n",
    "    r3 = [-np.sin(theta_y),0, np.cos(theta_y), 0]\n",
    "    \n",
    "    r4 = [0,0,0,1]\n",
    "    return np.array([r1,r2,r3,r4])\n",
    "\n",
    "def rotate_z(theta_z):\n",
    "    r1 = [np.cos(theta_z), -np.sin(theta_z), 0, 0]\n",
    "    r2 = [np.sin(theta_z), np.cos(theta_z), 0, 0 ]\n",
    "    \n",
    "    r3 = [0, 0, 1, 0]\n",
    "    \n",
    "    r4 = [0, 0, 0, 1]\n",
    "    return np.array([r1,r2,r3,r4])\n",
    "\n",
    "def rotate(p, thetas=(0,0,0), degrees=False, transpose=False):\n",
    "    \"\"\" rotate x, then y, then z\"\"\"\n",
    "    if degrees == True:\n",
    "        thetas = [np.deg2rad(th) for th in thetas]\n",
    "    X_rot_mat = rotate_x(thetas[0])\n",
    "    Y_rot_mat = rotate_y(thetas[1])\n",
    "    Z_rot_mat = rotate_z(thetas[2])\n",
    "    if transpose:\n",
    "        X_rot_mat = X_rot_mat.T\n",
    "        Y_rot_mat = Y_rot_mat.T\n",
    "        Z_rot_mat = Z_rot_mat.T\n",
    "        \n",
    "    rot_mat = np.dot(np.dot(Z_rot_mat, Y_rot_mat), X_rot_mat)\n",
    "    return np.dot(rot_mat, p), rot_mat\n",
    "\n",
    "    #return np.dot(np.dot(np.dot(rotate_x(thetas[0]), rotate_y(thetas[1])), rotate_z(thetas[2])), p)\n",
    "\n",
    "def CtoT(C):\n",
    "    \"\"\"C is camera position, will return translation matrix\"\"\"\n",
    "    \n",
    "    return np.vstack([np.hstack([np.identity(3), C.reshape(-1,1)]), np.array([0,0,0,1])])\n"
   ]
  },
  {
   "cell_type": "code",
   "execution_count": 18,
   "metadata": {
    "collapsed": false
   },
   "outputs": [
    {
     "data": {
      "text/plain": [
       "array([[ 0.70710678, -0.70710678,  0.        ,  0.        ],\n",
       "       [ 0.70710678,  0.70710678,  0.        ,  0.        ],\n",
       "       [ 0.        ,  0.        ,  0.        ,  0.        ],\n",
       "       [ 0.        ,  0.        ,  0.        ,  1.        ]])"
      ]
     },
     "execution_count": 18,
     "metadata": {},
     "output_type": "execute_result"
    }
   ],
   "source": [
    "np.array([1,1,0,1])*rotate_z(np.deg2rad(45))\n"
   ]
  },
  {
   "cell_type": "code",
   "execution_count": 21,
   "metadata": {
    "collapsed": false
   },
   "outputs": [
    {
     "data": {
      "text/plain": [
       "array([ 0.70710678,  0.        , -0.70710678,  1.        ])"
      ]
     },
     "execution_count": 21,
     "metadata": {},
     "output_type": "execute_result"
    }
   ],
   "source": [
    "np.dot(rotate_y(np.deg2rad(45)), np.array([1,0,0,1]))\n"
   ]
  },
  {
   "cell_type": "code",
   "execution_count": 121,
   "metadata": {
    "collapsed": false
   },
   "outputs": [],
   "source": [
    "p1, R = rotate(np.array([1,0,0,1]),thetas=(0,45, 45), degrees=True,transpose=False)"
   ]
  },
  {
   "cell_type": "code",
   "execution_count": 122,
   "metadata": {
    "collapsed": false
   },
   "outputs": [
    {
     "data": {
      "text/plain": [
       "array([ 0.5       ,  0.5       , -0.70710678,  1.        ])"
      ]
     },
     "execution_count": 122,
     "metadata": {},
     "output_type": "execute_result"
    }
   ],
   "source": [
    "p1"
   ]
  },
  {
   "cell_type": "code",
   "execution_count": 123,
   "metadata": {
    "collapsed": false
   },
   "outputs": [
    {
     "data": {
      "text/plain": [
       "array([[ 0.5       , -0.70710678,  0.5       ,  0.        ],\n",
       "       [ 0.5       ,  0.70710678,  0.5       ,  0.        ],\n",
       "       [-0.70710678,  0.        ,  0.70710678,  0.        ],\n",
       "       [ 0.        ,  0.        ,  0.        ,  1.        ]])"
      ]
     },
     "execution_count": 123,
     "metadata": {},
     "output_type": "execute_result"
    }
   ],
   "source": [
    "R"
   ]
  },
  {
   "cell_type": "code",
   "execution_count": 150,
   "metadata": {
    "collapsed": false
   },
   "outputs": [
    {
     "data": {
      "text/plain": [
       "array([[ 1.,  0.,  0.,  0.],\n",
       "       [ 0.,  1.,  0.,  0.],\n",
       "       [ 0.,  0.,  1.,  5.],\n",
       "       [ 0.,  0.,  0.,  1.]])"
      ]
     },
     "execution_count": 150,
     "metadata": {},
     "output_type": "execute_result"
    }
   ],
   "source": [
    "C = np.array([0,0,5]) # position of camera\n",
    "\n",
    "Tr = CtoT(C)\n",
    "Tr"
   ]
  },
  {
   "cell_type": "code",
   "execution_count": 151,
   "metadata": {
    "collapsed": false
   },
   "outputs": [],
   "source": [
    "T = np.dot(R, Tr)"
   ]
  },
  {
   "cell_type": "code",
   "execution_count": 152,
   "metadata": {
    "collapsed": false
   },
   "outputs": [
    {
     "data": {
      "text/plain": [
       "array([[ 0.5       , -0.70710678,  0.5       ,  2.5       ],\n",
       "       [ 0.5       ,  0.70710678,  0.5       ,  2.5       ],\n",
       "       [-0.70710678,  0.        ,  0.70710678,  3.53553391],\n",
       "       [ 0.        ,  0.        ,  0.        ,  1.        ]])"
      ]
     },
     "execution_count": 152,
     "metadata": {},
     "output_type": "execute_result"
    }
   ],
   "source": [
    "T"
   ]
  },
  {
   "cell_type": "code",
   "execution_count": 153,
   "metadata": {
    "collapsed": false
   },
   "outputs": [
    {
     "data": {
      "text/plain": [
       "array([ 3.        ,  3.        ,  2.82842712,  1.        ])"
      ]
     },
     "execution_count": 153,
     "metadata": {},
     "output_type": "execute_result"
    }
   ],
   "source": [
    "np.dot(T,np.array([1,0,0,1]))"
   ]
  },
  {
   "cell_type": "code",
   "execution_count": 154,
   "metadata": {
    "collapsed": false
   },
   "outputs": [
    {
     "data": {
      "text/plain": [
       "array([ 0.5       ,  0.5       , -0.70710678,  1.        ])"
      ]
     },
     "execution_count": 154,
     "metadata": {},
     "output_type": "execute_result"
    }
   ],
   "source": [
    "p1"
   ]
  },
  {
   "cell_type": "code",
   "execution_count": 155,
   "metadata": {
    "collapsed": false
   },
   "outputs": [
    {
     "data": {
      "text/plain": [
       "array([ 0.5       ,  0.5       ,  4.29289322,  1.        ])"
      ]
     },
     "execution_count": 155,
     "metadata": {},
     "output_type": "execute_result"
    }
   ],
   "source": [
    "np.dot(Tr, p1)"
   ]
  },
  {
   "cell_type": "code",
   "execution_count": 156,
   "metadata": {
    "collapsed": false
   },
   "outputs": [
    {
     "data": {
      "text/plain": [
       "array([ 1.,  0.,  5.,  1.])"
      ]
     },
     "execution_count": 156,
     "metadata": {},
     "output_type": "execute_result"
    }
   ],
   "source": [
    "np.dot(Tr, np.array([1,0,0,1]))"
   ]
  },
  {
   "cell_type": "code",
   "execution_count": null,
   "metadata": {
    "collapsed": true
   },
   "outputs": [],
   "source": []
  }
 ],
 "metadata": {
  "kernelspec": {
   "display_name": "Python 2",
   "language": "python",
   "name": "python2"
  },
  "language_info": {
   "codemirror_mode": {
    "name": "ipython",
    "version": 2
   },
   "file_extension": ".py",
   "mimetype": "text/x-python",
   "name": "python",
   "nbconvert_exporter": "python",
   "pygments_lexer": "ipython2",
   "version": "2.7.9"
  }
 },
 "nbformat": 4,
 "nbformat_minor": 1
}
