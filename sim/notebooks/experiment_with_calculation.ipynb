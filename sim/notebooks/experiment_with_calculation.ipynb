{
 "cells": [
  {
   "cell_type": "code",
   "execution_count": 4,
   "metadata": {
    "collapsed": true
   },
   "outputs": [],
   "source": [
    "# use NUMBA!\n",
    "import numpy as np\n",
    "import cv2"
   ]
  },
  {
   "cell_type": "markdown",
   "metadata": {},
   "source": [
    "# As Inputs\n",
    "## Within each pitch, we vary:\n",
    "- position of camera, given as xyz coordinates\n",
    "- angle camera is viewing, given by thetax, thetay, and thetaz\n",
    "\n",
    "## For each pitch, we vary\n",
    "- launch speed\n",
    "- angle of release\n",
    "\n",
    "\n"
   ]
  },
  {
   "cell_type": "code",
   "execution_count": 2,
   "metadata": {
    "collapsed": true
   },
   "outputs": [],
   "source": [
    "# represent all the Cs = np.array"
   ]
  },
  {
   "cell_type": "code",
   "execution_count": 72,
   "metadata": {
    "collapsed": false,
    "scrolled": true
   },
   "outputs": [
    {
     "name": "stdout",
     "output_type": "stream",
     "text": [
      "[ 0. -2.  0.] ==> [[ 640.   605.8]]\n",
      "[ 0. -2.  1.] ==> [[ 640.          633.11111111]]\n",
      "[ 0. -2.  2.] ==> [[ 640.    667.25]]\n",
      "[ 0. -2.  3.] ==> [[ 640.          711.14285714]]\n",
      "[ 0. -2.  4.] ==> [[ 640.          769.66666667]]\n",
      "[ 0. -2.  5.] ==> [[ 640.   851.6]]\n"
     ]
    }
   ],
   "source": [
    "src = np.zeros((6, 3))\n",
    "src[:,1] = -2\n",
    "src[:,2] = range(6) # source points\n",
    "rvec = np.array([0,0,0], np.float) # rotation vector\n",
    "tvec = np.array([0,0,-10], np.float) # translation vector\n",
    "\n",
    "# from http://stackoverflow.com/questions/34963337/iphone-6-camera-calibration-for-opencv\n",
    "# reversed x and y for landscape\n",
    "fy=1229.0; cy=360.0; fx=1153.0; cx=640.0; \n",
    "\n",
    "cameraMatrix = np.array([[fx,0,cx],[0,fy,cy],[0,0,1]])\n",
    "result = cv2.projectPoints(src, rvec, tvec, cameraMatrix, None)\n",
    "for n in range(len(src)):\n",
    "    print src[n], '==>', result[0][n]"
   ]
  },
  {
   "cell_type": "code",
   "execution_count": 80,
   "metadata": {
    "collapsed": false
   },
   "outputs": [
    {
     "data": {
      "text/plain": [
       "array([ -0.,  -0., -10.,  -1.])"
      ]
     },
     "execution_count": 80,
     "metadata": {},
     "output_type": "execute_result"
    }
   ],
   "source": [
    "src_h = np.hstack([src, np.ones(6).reshape(-1,1)])\n",
    "p1, Rc =rotate(np.dot(CtoT(np.array([0,0,10])),src_h[0]))\n",
    "\n",
    "t = -np.dot(Rc, np.array([0,0,10,1]))\n",
    "t"
   ]
  },
  {
   "cell_type": "code",
   "execution_count": 58,
   "metadata": {
    "collapsed": false
   },
   "outputs": [
    {
     "data": {
      "text/plain": [
       "array([ 6400.,  6058.,    10.])"
      ]
     },
     "execution_count": 58,
     "metadata": {},
     "output_type": "execute_result"
    }
   ],
   "source": [
    "np.dot(\n",
    "    np.dot(cameraMatrix,np.hstack([np.identity(3), np.zeros(3).reshape(-1,1)])), p1\n",
    "    )"
   ]
  },
  {
   "cell_type": "code",
   "execution_count": 34,
   "metadata": {
    "collapsed": false
   },
   "outputs": [],
   "source": [
    "def rotate_x(theta_x):\n",
    "    r1 = [1,0,0,0]\n",
    "    r2 = [0, np.cos(theta_x), -np.sin(theta_x), 0]\n",
    "    \n",
    "    r3 = [0, np.sin(theta_x), np.cos(theta_x), 0]\n",
    "    \n",
    "    r4 = [0,0,0,1]\n",
    "    return np.array([r1,r2,r3,r4])\n",
    "\n",
    "def rotate_y(theta_y):\n",
    "    r1 = [np.cos(theta_y), 0, np.sin(theta_y), 0]\n",
    "    r2 = [0, 1, 0, 0]\n",
    "    \n",
    "    r3 = [-np.sin(theta_y),0, np.cos(theta_y), 0]\n",
    "    \n",
    "    r4 = [0,0,0,1]\n",
    "    return np.array([r1,r2,r3,r4])\n",
    "\n",
    "def rotate_z(theta_z):\n",
    "    r1 = [np.cos(theta_z), -np.sin(theta_z), 0, 0]\n",
    "    r2 = [np.sin(theta_z), np.cos(theta_z), 0, 0 ]\n",
    "    \n",
    "    r3 = [0, 0, 1, 0]\n",
    "    \n",
    "    r4 = [0, 0, 0, 1]\n",
    "    return np.array([r1,r2,r3,r4])\n",
    "\n",
    "def rotate(p, thetas=(0,0,0), degrees=False, transpose=False):\n",
    "    \"\"\" rotate x, then y, then z\"\"\"\n",
    "    if degrees == True:\n",
    "        thetas = [np.deg2rad(th) for th in thetas]\n",
    "    X_rot_mat = rotate_x(thetas[0])\n",
    "    Y_rot_mat = rotate_y(thetas[1])\n",
    "    Z_rot_mat = rotate_z(thetas[2])\n",
    "    if transpose:\n",
    "        X_rot_mat = X_rot_mat.T\n",
    "        Y_rot_mat = Y_rot_mat.T\n",
    "        Z_rot_mat = Z_rot_mat.T\n",
    "        \n",
    "    rot_mat = np.dot(np.dot(Z_rot_mat, Y_rot_mat), X_rot_mat)\n",
    "    return np.dot(rot_mat, p), rot_mat\n",
    "\n",
    "    #return np.dot(np.dot(np.dot(rotate_x(thetas[0]), rotate_y(thetas[1])), rotate_z(thetas[2])), p)\n",
    "\n",
    "def CtoT(C):\n",
    "    \"\"\"C is camera position, will return translation matrix\"\"\"\n",
    "    \n",
    "    return np.vstack([np.hstack([np.identity(3), C.reshape(-1,1)]), np.array([0,0,0,1])])\n"
   ]
  },
  {
   "cell_type": "code",
   "execution_count": 62,
   "metadata": {
    "collapsed": false
   },
   "outputs": [
    {
     "data": {
      "text/plain": [
       "0.095492943750293213"
      ]
     },
     "execution_count": 62,
     "metadata": {},
     "output_type": "execute_result"
    }
   ],
   "source": [
    "import math\n",
    "np.rad2deg(math.atan(1/1200.)*2)"
   ]
  },
  {
   "cell_type": "code",
   "execution_count": null,
   "metadata": {
    "collapsed": true
   },
   "outputs": [],
   "source": []
  }
 ],
 "metadata": {
  "kernelspec": {
   "display_name": "Python 2",
   "language": "python",
   "name": "python2"
  },
  "language_info": {
   "codemirror_mode": {
    "name": "ipython",
    "version": 2
   },
   "file_extension": ".py",
   "mimetype": "text/x-python",
   "name": "python",
   "nbconvert_exporter": "python",
   "pygments_lexer": "ipython2",
   "version": "2.7.9"
  }
 },
 "nbformat": 4,
 "nbformat_minor": 1
}
