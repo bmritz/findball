{
 "cells": [
  {
   "cell_type": "code",
   "execution_count": 3,
   "metadata": {
    "collapsed": true
   },
   "outputs": [],
   "source": [
    "import cv2\n",
    "import pandas as pd\n",
    "import numpy as np\n",
    "import sys\n",
    "\n",
    "\n",
    "\n",
    "sys.path.append(\"../src\")\n",
    "\n",
    "import make_camera_coordinates as mcc"
   ]
  },
  {
   "cell_type": "markdown",
   "metadata": {},
   "source": [
    "get the rotation matricies for all points in C looking at all points in P\n",
    "\n",
    "    INPUTS\n",
    "    ------\n",
    "    C: numpy array of shape (num camera points, 3)\n",
    "    P: numpy array of shape (num target points, 3)\n",
    "\n",
    "    OUTPUTS\n",
    "    -------\n",
    "\n",
    "    extrinsic_camera_matrix : numpy array of shape (num target points, num camera points, 3, 3)\n",
    "\n",
    "    algorithm for look-at camera rotation matrix\n",
    "    1. Compute L = p - C.\n",
    "    2. Normalize L.\n",
    "    3. Compute s = L x u. (cross product)\n",
    "    4. Normalize s.\n",
    "    5. Compute u_ = s x L.\n",
    "    6. Then Extrinsic rotation matrix given by:\n",
    "\n",
    "            s1,  s2,  s3\n",
    "    R =     u_1, u_2, u_3\n",
    "            -L1, -L2, -L3\n",
    "\n",
    "    u is the y-axis -- vary this to get roll\n",
    "\n",
    "    This takes advantage of broadcasting \n",
    "        -- see https://docs.scipy.org/doc/numpy/user/basics.broadcasting.html"
   ]
  },
  {
   "cell_type": "code",
   "execution_count": 379,
   "metadata": {
    "collapsed": false
   },
   "outputs": [],
   "source": [
    "\n",
    "# point we want to project\n",
    "b = np.array([3,0,0,1])\n",
    "\n",
    "# target point\n",
    "p = np.array([-1.524 , -0.6096,  0.    ])\n",
    "\n",
    "# camera center in world coordinates\n",
    "C = np.array([ -6.096 ,   0.9144,  15.24  ])\n",
    "\n",
    "# up vector\n",
    "u = np.array([0,1,0], dtype='float32')\n",
    "\n",
    "\n",
    "#inrinsic parameters\n",
    "\n",
    "# physical sensor width and hiehgt in iphone in real life in m\n",
    "F  = 4.11/1000. # focal length\n",
    "W = 4.8/1000.\n",
    "H = 3.6 / 1000.  \n",
    "w = 1280. # width in pixels\n",
    "h = 720 # ehight in pixels\n",
    "\n",
    "\n",
    "fy=1229.; cy=360.; fx=1153.; cx=640.;\n",
    "fy=4.11/1000.; cy=0; fx=4.11/1000.; cx=0;\n",
    "fy=F*h/H; cy=0; fx=F*w/W; cx=0;\n",
    "\n",
    "K = np.array([[fx, 0, cx], [0, fy, cy], [0, 0, 1]])"
   ]
  },
  {
   "cell_type": "code",
   "execution_count": 390,
   "metadata": {
    "collapsed": false
   },
   "outputs": [
    {
     "name": "stdout",
     "output_type": "stream",
     "text": [
      "L after sub: [  4.572  -1.524 -15.24 ]\n",
      "L after norm: [ 0.28603878 -0.09534626 -0.95346259]\n",
      "s after norm: [ 0.95782629 -0.          0.28734789]\n",
      "u_: [ 0.02739755  0.99544417 -0.09132515]\n",
      "R before fiddle:\n",
      " [[ 0.95782629 -0.          0.28734789]\n",
      " [ 0.02739755  0.99544417 -0.09132515]\n",
      " [-0.28603878  0.09534626  0.95346259]]\n",
      "final R:\n",
      "[[-0.95782629  0.         -0.28734789]\n",
      " [ 0.02739755  0.99544417 -0.09132515]\n",
      " [ 0.28603878 -0.09534626 -0.95346259]]\n",
      "t: [ -1.45972726   0.64857662  16.36164686]\n",
      "extrinsic_matrix:\n",
      " [[ -0.95782629   0.          -0.28734789  -1.45972726]\n",
      " [  0.02739755   0.99544417  -0.09132515   0.64857662]\n",
      " [  0.28603878  -0.09534626  -0.95346259  16.36164686]]\n"
     ]
    }
   ],
   "source": [
    "# rotation matrix\n",
    "L = p - C\n",
    "print \"L after sub: %s\" % L\n",
    "L = L / np.linalg.norm(L)\n",
    "print \"L after norm: %s\" % L\n",
    "s = np.cross(L, u)\n",
    "s = s / np.linalg.norm(s)\n",
    "print \"s after norm: %s\" % s\n",
    "u_ = np.cross(s, L)\n",
    "print \"u_: %s\" % u_\n",
    "R = np.vstack([s, u_, -L])\n",
    "print \"R before fiddle:\\n %s\" % R\n",
    "    \n",
    "# transformation vector\n",
    "R[0] = -R[0]\n",
    "R[2] = -R[2]\n",
    "print \"final R:\\n%s\" % R\n",
    "t = -np.dot(R, C)\n",
    "print \"t: %s\" % t\n",
    "\n",
    "extrinsic_matrix = np.hstack([R, t.reshape(-1,1)])\n",
    "print \"extrinsic_matrix:\\n %s\" % extrinsic_matrix"
   ]
  },
  {
   "cell_type": "code",
   "execution_count": 378,
   "metadata": {
    "collapsed": false
   },
   "outputs": [
    {
     "name": "stdout",
     "output_type": "stream",
     "text": [
      "C vector: position of camera in world coordinates\n",
      "[   0    0 -100]\n",
      "*******\n",
      "t vector, position of world origin in camera coordinates\n",
      "[ -6.98291277  -0.          99.75589671]\n",
      "*******\n",
      "B_cam: the location of the point in camera coordinates\n",
      "[ -3.99023587   0.          99.9653841 ]\n",
      "*******\n",
      "extrinsic_matrix is \n",
      "[[  9.97558967e-01  -0.00000000e+00  -6.98291277e-02  -6.98291277e+00]\n",
      " [  0.00000000e+00   1.00000000e+00  -0.00000000e+00  -0.00000000e+00]\n",
      " [  6.98291277e-02   0.00000000e+00   9.97558967e-01   9.97558967e+01]]\n",
      "*******\n",
      "K is the camera matrix\n",
      "[[  1.09600000e+03   0.00000000e+00   0.00000000e+00]\n",
      " [  0.00000000e+00   8.22000000e+02   0.00000000e+00]\n",
      " [  0.00000000e+00   0.00000000e+00   1.00000000e+00]]\n",
      "*******\n",
      "P is: camera matrix\n",
      "[[  1.09332463e+03   0.00000000e+00  -7.65327240e+01  -7.65327240e+03]\n",
      " [  0.00000000e+00   8.22000000e+02   0.00000000e+00   0.00000000e+00]\n",
      " [  6.98291277e-02   0.00000000e+00   9.97558967e-01   9.97558967e+01]]\n",
      "*******\n",
      "we are looking from:\n",
      "[   0    0 -100]\n",
      "*******\n",
      "the point we are projecting is:\n",
      "[3 0 0 1]\n",
      "we are looking at:\n",
      "[7 0 0]\n",
      "the projection into the camera is:\n",
      "[-4373.29851195     0.            99.9653841 ]\n"
     ]
    }
   ],
   "source": [
    "print \"C vector: position of camera in world coordinates\"\n",
    "print C\n",
    "print \"*******\"\n",
    "print \"t vector, position of world origin in camera coordinates\"\n",
    "print t\n",
    "print \"*******\"\n",
    "b_cam = np.dot(extrinsic_matrix, b)\n",
    "print \"B_cam: the location of the point in camera coordinates\"\n",
    "print b_cam\n",
    "print \"*******\"\n",
    "print \"extrinsic_matrix is \"\n",
    "print  extrinsic_matrix\n",
    "print \"*******\"\n",
    "print \"K is the camera matrix\"\n",
    "print K\n",
    "print \"*******\"\n",
    "P = np.dot(K, extrinsic_matrix)\n",
    "print \"P is: camera matrix\"\n",
    "print P\n",
    "print \"*******\"\n",
    "print \"we are looking from:\"\n",
    "print C\n",
    "print \"*******\"\n",
    "print \"the point we are projecting is:\"\n",
    "print b\n",
    "print \"we are looking at:\"\n",
    "print p\n",
    "print \"the projection into the camera is:\"\n",
    "print np.dot(P, b)"
   ]
  },
  {
   "cell_type": "code",
   "execution_count": 371,
   "metadata": {
    "collapsed": false
   },
   "outputs": [
    {
     "name": "stdout",
     "output_type": "stream",
     "text": [
      "THIS WORKS\n",
      "\n",
      "actual length in meters\n",
      "[-0.00016406  0.        ]\n",
      "\n",
      " divide by sensor width:\n",
      "\n",
      "length in terms of percent of screen\n",
      "[-0.03417823  0.        ]\n",
      "\n",
      " multiply by number of pixels wide the image is\n",
      "\n",
      "length in terms of pixels\n",
      "[-43.74812893   0.        ]\n",
      "\n",
      " add half of the image pixels wide\n",
      "\n",
      "our projection is:\n",
      "[ 596.25187107  320.        ]\n"
     ]
    }
   ],
   "source": [
    "#using this wiki article: https://en.wikipedia.org/wiki/Pinhole_camera_model\n",
    "# 4.11 comes from 4.11 mm focal length (in real world terms) of iphone 6 \n",
    "#    -- see http://photo.stackexchange.com/questions/57560/so-my-iphone-6-camera-lens-is-as-wide-as-my-full-frame-35mm-dslr-lens\n",
    "\n",
    "# TODO: add aspect ratio\n",
    "f  = 4.11/1000.\n",
    "W = 4.8/1000.\n",
    "H = 3.6 / 1000.   # http://photoseek.com/2013/compare-digital-camera-sensor-sizes-full-frame-35mm-aps-c-micro-four-thirds-1-inch-type/\n",
    "y = b_cam[0:2]*(f / b_cam[2])\n",
    "\n",
    "# flip again because it will be on the other side\n",
    "resolution =np.array((1280, 640))\n",
    "w, h = resolution\n",
    "print \"THIS WORKS\\n\"\n",
    "# actual length in meters\n",
    "print \"actual length in meters\"\n",
    "print y\n",
    "print \"\\n divide by sensor width:\"\n",
    "print \"\\nlength in terms of percent of screen\"\n",
    "pct_scr = y / W\n",
    "print pct_scr\n",
    "print \"\\n multiply by number of pixels wide the image is\"\n",
    "print \"\\nlength in terms of pixels\"\n",
    "relative_pixels_from_center = pct_scr * resolution\n",
    "print relative_pixels_from_center\n",
    "#print - projection / sensor_width\n",
    "print \"\\n add half of the image pixels wide\"\n",
    "print '\\nour projection is:'\n",
    "print relative_pixels_from_center + resolution/2"
   ]
  },
  {
   "cell_type": "code",
   "execution_count": 320,
   "metadata": {
    "collapsed": false
   },
   "outputs": [
    {
     "data": {
      "text/plain": [
       "array([ -3.99023587,   0.        ,  99.9653841 ])"
      ]
     },
     "execution_count": 320,
     "metadata": {},
     "output_type": "execute_result"
    }
   ],
   "source": [
    "fx=1229"
   ]
  },
  {
   "cell_type": "code",
   "execution_count": 185,
   "metadata": {
    "collapsed": false
   },
   "outputs": [
    {
     "name": "stdout",
     "output_type": "stream",
     "text": [
      "[[1153    0  640]\n",
      " [   0 1229  360]\n",
      " [   0    0    1]]\n",
      "[[ 55792.47547326]\n",
      " [ 35912.1228171 ]\n",
      " [    99.75589671]]\n"
     ]
    }
   ],
   "source": [
    "print intrinsic_matrix\n",
    "print np.dot(intrinsic_matrix, wc)"
   ]
  },
  {
   "cell_type": "code",
   "execution_count": 186,
   "metadata": {
    "collapsed": false
   },
   "outputs": [
    {
     "name": "stdout",
     "output_type": "stream",
     "text": [
      "[[ 640    0    0  640]\n",
      " [   0 -360    0  360]\n",
      " [   0    0    1    0]\n",
      " [   0    0    0    1]]\n"
     ]
    }
   ],
   "source": [
    "toScreen = np.array([[640, 0,0, 640],[0, -360,0, 360], [0, 0, 1, 0], [0, 0, 0,1]])\n",
    "print toScreen"
   ]
  },
  {
   "cell_type": "code",
   "execution_count": 187,
   "metadata": {
    "collapsed": false
   },
   "outputs": [
    {
     "data": {
      "text/plain": [
       "array([[ -3.82906417e+03],\n",
       "       [  3.60000000e+02],\n",
       "       [  9.97558967e+01],\n",
       "       [  1.00000000e+00]])"
      ]
     },
     "execution_count": 187,
     "metadata": {},
     "output_type": "execute_result"
    }
   ],
   "source": [
    "# this seems to wrok\n",
    "np.dot(toScreen, np.vstack([wc,[1]]))"
   ]
  },
  {
   "cell_type": "code",
   "execution_count": 129,
   "metadata": {
    "collapsed": false
   },
   "outputs": [
    {
     "data": {
      "text/plain": [
       "-1199.02647"
      ]
     },
     "execution_count": 129,
     "metadata": {},
     "output_type": "execute_result"
    }
   ],
   "source": [
    "-1.19902647e+03"
   ]
  },
  {
   "cell_type": "code",
   "execution_count": 81,
   "metadata": {
    "collapsed": false
   },
   "outputs": [
    {
     "data": {
      "text/plain": [
       "0.99999999999999989"
      ]
     },
     "execution_count": 81,
     "metadata": {},
     "output_type": "execute_result"
    }
   ],
   "source": [
    "np.linalg.det(R)"
   ]
  },
  {
   "cell_type": "code",
   "execution_count": null,
   "metadata": {
    "collapsed": true
   },
   "outputs": [],
   "source": []
  },
  {
   "cell_type": "code",
   "execution_count": 149,
   "metadata": {
    "collapsed": false
   },
   "outputs": [],
   "source": [
    "def rotate_x(theta_x):\n",
    "    r1 = [1,0,0,0]\n",
    "    r2 = [0, np.cos(theta_x), -np.sin(theta_x), 0]\n",
    "    \n",
    "    r3 = [0, np.sin(theta_x), np.cos(theta_x), 0]\n",
    "    \n",
    "    r4 = [0,0,0,1]\n",
    "    return np.array([r1,r2,r3,r4])\n",
    "\n",
    "def rotate_y(theta_y):\n",
    "    r1 = [np.cos(theta_y), 0, np.sin(theta_y), 0]\n",
    "    r2 = [0, 1, 0, 0]\n",
    "    \n",
    "    r3 = [-np.sin(theta_y),0, np.cos(theta_y), 0]\n",
    "    \n",
    "    r4 = [0,0,0,1]\n",
    "    return np.array([r1,r2,r3,r4])\n",
    "\n",
    "def rotate_z(theta_z):\n",
    "    r1 = [np.cos(theta_z), -np.sin(theta_z), 0, 0]\n",
    "    r2 = [np.sin(theta_z), np.cos(theta_z), 0, 0 ]\n",
    "    \n",
    "    r3 = [0, 0, 1, 0]\n",
    "    \n",
    "    r4 = [0, 0, 0, 1]\n",
    "    return np.array([r1,r2,r3,r4])\n",
    "\n",
    "def rotate(p, thetas=(0,0,0), degrees=False, transpose=False):\n",
    "    \"\"\" rotate x, then y, then z\"\"\"\n",
    "    if degrees == True:\n",
    "        thetas = [np.deg2rad(th) for th in thetas]\n",
    "    X_rot_mat = rotate_x(thetas[0])\n",
    "    Y_rot_mat = rotate_y(thetas[1])\n",
    "    Z_rot_mat = rotate_z(thetas[2])\n",
    "    if transpose:\n",
    "        X_rot_mat = X_rot_mat.T\n",
    "        Y_rot_mat = Y_rot_mat.T\n",
    "        Z_rot_mat = Z_rot_mat.T\n",
    "        \n",
    "    rot_mat = np.dot(np.dot(Z_rot_mat, Y_rot_mat), X_rot_mat)\n",
    "    return np.dot(rot_mat, p), rot_mat\n",
    "\n",
    "    #return np.dot(np.dot(np.dot(rotate_x(thetas[0]), rotate_y(thetas[1])), rotate_z(thetas[2])), p)\n",
    "\n",
    "def CtoT(C):\n",
    "    \"\"\"C is camera position, will return translation matrix\"\"\"\n",
    "    \n",
    "    return np.vstack([np.hstack([np.identity(3), C.reshape(-1,1)]), np.array([0,0,0,1])])\n"
   ]
  },
  {
   "cell_type": "code",
   "execution_count": 18,
   "metadata": {
    "collapsed": false
   },
   "outputs": [
    {
     "data": {
      "text/plain": [
       "array([[ 0.70710678, -0.70710678,  0.        ,  0.        ],\n",
       "       [ 0.70710678,  0.70710678,  0.        ,  0.        ],\n",
       "       [ 0.        ,  0.        ,  0.        ,  0.        ],\n",
       "       [ 0.        ,  0.        ,  0.        ,  1.        ]])"
      ]
     },
     "execution_count": 18,
     "metadata": {},
     "output_type": "execute_result"
    }
   ],
   "source": [
    "np.array([1,1,0,1])*rotate_z(np.deg2rad(45))\n"
   ]
  },
  {
   "cell_type": "code",
   "execution_count": 21,
   "metadata": {
    "collapsed": false
   },
   "outputs": [
    {
     "data": {
      "text/plain": [
       "array([ 0.70710678,  0.        , -0.70710678,  1.        ])"
      ]
     },
     "execution_count": 21,
     "metadata": {},
     "output_type": "execute_result"
    }
   ],
   "source": [
    "np.dot(rotate_y(np.deg2rad(45)), np.array([1,0,0,1]))\n"
   ]
  },
  {
   "cell_type": "code",
   "execution_count": 121,
   "metadata": {
    "collapsed": false
   },
   "outputs": [],
   "source": [
    "p1, R = rotate(np.array([1,0,0,1]),thetas=(0,45, 45), degrees=True,transpose=False)"
   ]
  },
  {
   "cell_type": "code",
   "execution_count": 122,
   "metadata": {
    "collapsed": false
   },
   "outputs": [
    {
     "data": {
      "text/plain": [
       "array([ 0.5       ,  0.5       , -0.70710678,  1.        ])"
      ]
     },
     "execution_count": 122,
     "metadata": {},
     "output_type": "execute_result"
    }
   ],
   "source": [
    "p1"
   ]
  },
  {
   "cell_type": "code",
   "execution_count": 123,
   "metadata": {
    "collapsed": false
   },
   "outputs": [
    {
     "data": {
      "text/plain": [
       "array([[ 0.5       , -0.70710678,  0.5       ,  0.        ],\n",
       "       [ 0.5       ,  0.70710678,  0.5       ,  0.        ],\n",
       "       [-0.70710678,  0.        ,  0.70710678,  0.        ],\n",
       "       [ 0.        ,  0.        ,  0.        ,  1.        ]])"
      ]
     },
     "execution_count": 123,
     "metadata": {},
     "output_type": "execute_result"
    }
   ],
   "source": [
    "R"
   ]
  },
  {
   "cell_type": "code",
   "execution_count": 150,
   "metadata": {
    "collapsed": false
   },
   "outputs": [
    {
     "data": {
      "text/plain": [
       "array([[ 1.,  0.,  0.,  0.],\n",
       "       [ 0.,  1.,  0.,  0.],\n",
       "       [ 0.,  0.,  1.,  5.],\n",
       "       [ 0.,  0.,  0.,  1.]])"
      ]
     },
     "execution_count": 150,
     "metadata": {},
     "output_type": "execute_result"
    }
   ],
   "source": [
    "C = np.array([0,0,5]) # position of camera\n",
    "\n",
    "Tr = CtoT(C)\n",
    "Tr"
   ]
  },
  {
   "cell_type": "code",
   "execution_count": 151,
   "metadata": {
    "collapsed": false
   },
   "outputs": [],
   "source": [
    "T = np.dot(R, Tr)"
   ]
  },
  {
   "cell_type": "code",
   "execution_count": 152,
   "metadata": {
    "collapsed": false
   },
   "outputs": [
    {
     "data": {
      "text/plain": [
       "array([[ 0.5       , -0.70710678,  0.5       ,  2.5       ],\n",
       "       [ 0.5       ,  0.70710678,  0.5       ,  2.5       ],\n",
       "       [-0.70710678,  0.        ,  0.70710678,  3.53553391],\n",
       "       [ 0.        ,  0.        ,  0.        ,  1.        ]])"
      ]
     },
     "execution_count": 152,
     "metadata": {},
     "output_type": "execute_result"
    }
   ],
   "source": [
    "T"
   ]
  },
  {
   "cell_type": "code",
   "execution_count": 153,
   "metadata": {
    "collapsed": false
   },
   "outputs": [
    {
     "data": {
      "text/plain": [
       "array([ 3.        ,  3.        ,  2.82842712,  1.        ])"
      ]
     },
     "execution_count": 153,
     "metadata": {},
     "output_type": "execute_result"
    }
   ],
   "source": [
    "np.dot(T,np.array([1,0,0,1]))"
   ]
  },
  {
   "cell_type": "code",
   "execution_count": 154,
   "metadata": {
    "collapsed": false
   },
   "outputs": [
    {
     "data": {
      "text/plain": [
       "array([ 0.5       ,  0.5       , -0.70710678,  1.        ])"
      ]
     },
     "execution_count": 154,
     "metadata": {},
     "output_type": "execute_result"
    }
   ],
   "source": [
    "p1"
   ]
  },
  {
   "cell_type": "code",
   "execution_count": 155,
   "metadata": {
    "collapsed": false
   },
   "outputs": [
    {
     "data": {
      "text/plain": [
       "array([ 0.5       ,  0.5       ,  4.29289322,  1.        ])"
      ]
     },
     "execution_count": 155,
     "metadata": {},
     "output_type": "execute_result"
    }
   ],
   "source": [
    "np.dot(Tr, p1)"
   ]
  },
  {
   "cell_type": "code",
   "execution_count": 156,
   "metadata": {
    "collapsed": false
   },
   "outputs": [
    {
     "data": {
      "text/plain": [
       "array([ 1.,  0.,  5.,  1.])"
      ]
     },
     "execution_count": 156,
     "metadata": {},
     "output_type": "execute_result"
    }
   ],
   "source": [
    "np.dot(Tr, np.array([1,0,0,1]))"
   ]
  },
  {
   "cell_type": "code",
   "execution_count": null,
   "metadata": {
    "collapsed": true
   },
   "outputs": [],
   "source": []
  }
 ],
 "metadata": {
  "kernelspec": {
   "display_name": "Python 2",
   "language": "python",
   "name": "python2"
  },
  "language_info": {
   "codemirror_mode": {
    "name": "ipython",
    "version": 2
   },
   "file_extension": ".py",
   "mimetype": "text/x-python",
   "name": "python",
   "nbconvert_exporter": "python",
   "pygments_lexer": "ipython2",
   "version": "2.7.9"
  }
 },
 "nbformat": 4,
 "nbformat_minor": 1
}
