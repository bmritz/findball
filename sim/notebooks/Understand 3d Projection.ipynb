{
 "cells": [
  {
   "cell_type": "code",
   "execution_count": 1,
   "metadata": {
    "collapsed": false
   },
   "outputs": [],
   "source": [
    "#import cv2\n",
    "import pandas as pd\n",
    "import numpy as np\n",
    "import sys\n",
    "\n",
    "\n",
    "\n",
    "sys.path.append(\"../src\")\n",
    "\n",
    "import make_camera_coordinates as mcc"
   ]
  },
  {
   "cell_type": "markdown",
   "metadata": {},
   "source": [
    "get the rotation matricies for all points in C looking at all points in P\n",
    "\n",
    "    INPUTS\n",
    "    ------\n",
    "    C: numpy array of shape (num camera points, 3)\n",
    "    P: numpy array of shape (num target points, 3)\n",
    "\n",
    "    OUTPUTS\n",
    "    -------\n",
    "\n",
    "    extrinsic_camera_matrix : numpy array of shape (num target points, num camera points, 3, 3)\n",
    "\n",
    "    algorithm for look-at camera rotation matrix\n",
    "    1. Compute L = p - C.\n",
    "    2. Normalize L.\n",
    "    3. Compute s = L x u. (cross product)\n",
    "    4. Normalize s.\n",
    "    5. Compute u_ = s x L.\n",
    "    6. Then Extrinsic rotation matrix given by:\n",
    "\n",
    "            s1,  s2,  s3\n",
    "    R =     u_1, u_2, u_3\n",
    "            -L1, -L2, -L3\n",
    "\n",
    "    u is the y-axis -- vary this to get roll\n",
    "\n",
    "    This takes advantage of broadcasting \n",
    "        -- see https://docs.scipy.org/doc/numpy/user/basics.broadcasting.html"
   ]
  },
  {
   "cell_type": "code",
   "execution_count": 2,
   "metadata": {
    "collapsed": false
   },
   "outputs": [],
   "source": [
    "\n",
    "# point we want to project\n",
    "b = np.array([3,0,0,1])\n",
    "\n",
    "# target point\n",
    "p = np.array([9 , -2,  0.    ])\n",
    "\n",
    "# camera center in world coordinates\n",
    "C = np.array([ 0 ,   0.,  15.24  ])\n",
    "\n",
    "# up vector\n",
    "u = np.array([0,1,0], dtype='float32')\n",
    "\n",
    "\n",
    "#inrinsic parameters\n",
    "\n",
    "# physical sensor width and hiehgt in iphone in real life in m\n",
    "F  = 4.11/1000. # focal length\n",
    "W = 4.8/1000.\n",
    "H = 3.6 / 1000.  \n",
    "w = 1280. # width in pixels\n",
    "h = 720 # height in pixels\n",
    "resolution = (w, h)\n",
    "\n",
    "fy=1229.; cy=360.; fx=1153.; cx=640.;\n",
    "fy=4.11/1000.; cy=0; fx=4.11/1000.; cx=0;\n",
    "fy=F*h/H; cy=0; fx=F*w/W; cx=0;\n",
    "\n",
    "K = np.array([[fx, 0, cx], [0, fy, cy], [0, 0, 1]])"
   ]
  },
  {
   "cell_type": "code",
   "execution_count": 3,
   "metadata": {
    "collapsed": false
   },
   "outputs": [
    {
     "name": "stdout",
     "output_type": "stream",
     "text": [
      "L after sub: [  9.    -2.   -15.24]\n",
      "L after norm: [ 0.5052851  -0.11228558 -0.8556161 ]\n",
      "s after norm: [ 0.86106148 -0.          0.50850087]\n",
      "u_: [ 0.05709731  0.99367598 -0.09668479]\n",
      "R before fiddle:\n",
      " [[ 0.86106148 -0.          0.50850087]\n",
      " [ 0.05709731  0.99367598 -0.09668479]\n",
      " [-0.5052851   0.11228558  0.8556161 ]]\n",
      "final R:\n",
      "[[-0.86106148  0.         -0.50850087]\n",
      " [ 0.05709731  0.99367598 -0.09668479]\n",
      " [ 0.5052851  -0.11228558 -0.8556161 ]]\n",
      "t: [  7.74955328   1.47347613  13.03958942]\n",
      "extrinsic_matrix:\n",
      " [[ -0.86106148   0.          -0.50850087   7.74955328]\n",
      " [  0.05709731   0.99367598  -0.09668479   1.47347613]\n",
      " [  0.5052851   -0.11228558  -0.8556161   13.03958942]]\n"
     ]
    }
   ],
   "source": [
    "# rotation matrix\n",
    "L = p - C\n",
    "print \"L after sub: %s\" % L\n",
    "L = L / np.linalg.norm(L)\n",
    "print \"L after norm: %s\" % L\n",
    "s = np.cross(L, u)\n",
    "s = s / np.linalg.norm(s)\n",
    "print \"s after norm: %s\" % s\n",
    "u_ = np.cross(s, L)\n",
    "print \"u_: %s\" % u_\n",
    "R = np.vstack([s, u_, -L])\n",
    "print \"R before fiddle:\\n %s\" % R\n",
    "    \n",
    "# transformation vector\n",
    "R[0] = -R[0]\n",
    "R[2] = -R[2]\n",
    "print \"final R:\\n%s\" % R\n",
    "t = -np.dot(R, C)\n",
    "print \"t: %s\" % t\n",
    "\n",
    "extrinsic_matrix = np.hstack([R, t.reshape(-1,1)])\n",
    "print \"extrinsic_matrix:\\n %s\" % extrinsic_matrix"
   ]
  },
  {
   "cell_type": "code",
   "execution_count": 4,
   "metadata": {
    "collapsed": false
   },
   "outputs": [
    {
     "name": "stdout",
     "output_type": "stream",
     "text": [
      "C vector: position of camera in world coordinates\n",
      "[  0.     0.    15.24]\n",
      "*******\n",
      "t vector, position of world origin in camera coordinates\n",
      "[  7.74955328   1.47347613  13.03958942]\n",
      "*******\n",
      "B_cam: the location of the point in camera coordinates\n",
      "[  5.16636885   1.64476807  14.55544472]\n",
      "*******\n",
      "extrinsic_matrix is \n",
      "[[ -0.86106148   0.          -0.50850087   7.74955328]\n",
      " [  0.05709731   0.99367598  -0.09668479   1.47347613]\n",
      " [  0.5052851   -0.11228558  -0.8556161   13.03958942]]\n",
      "*******\n",
      "K is the camera matrix\n",
      "[[  1.09600000e+03   0.00000000e+00   0.00000000e+00]\n",
      " [  0.00000000e+00   8.22000000e+02   0.00000000e+00]\n",
      " [  0.00000000e+00   0.00000000e+00   1.00000000e+00]]\n",
      "*******\n",
      "P is: camera matrix\n",
      "[[ -9.43723377e+02   0.00000000e+00  -5.57316955e+02   8.49351039e+03]\n",
      " [  4.69339922e+01   8.16801654e+02  -7.94748935e+01   1.21119738e+03]\n",
      " [  5.05285100e-01  -1.12285578e-01  -8.55616103e-01   1.30395894e+01]]\n",
      "*******\n",
      "we are looking from:\n",
      "[  0.     0.    15.24]\n",
      "*******\n",
      "the point we are projecting is:\n",
      "[3 0 0 1]\n",
      "we are looking at:\n",
      "[ 9. -2.  0.]\n"
     ]
    }
   ],
   "source": [
    "print \"C vector: position of camera in world coordinates\"\n",
    "print C\n",
    "print \"*******\"\n",
    "print \"t vector, position of world origin in camera coordinates\"\n",
    "print t\n",
    "print \"*******\"\n",
    "b_cam = np.dot(extrinsic_matrix, b)\n",
    "print \"B_cam: the location of the point in camera coordinates\"\n",
    "print b_cam\n",
    "print \"*******\"\n",
    "print \"extrinsic_matrix is \"\n",
    "print  extrinsic_matrix\n",
    "print \"*******\"\n",
    "print \"K is the camera matrix\"\n",
    "print K\n",
    "print \"*******\"\n",
    "P = np.dot(K, extrinsic_matrix)\n",
    "print \"P is: camera matrix\"\n",
    "print P\n",
    "print \"*******\"\n",
    "print \"we are looking from:\"\n",
    "print C\n",
    "print \"*******\"\n",
    "print \"the point we are projecting is:\"\n",
    "print b\n",
    "print \"we are looking at:\"\n",
    "print p\n",
    "# print \"the projection into the camera is:\"\n",
    "# print np.dot(P, b)"
   ]
  },
  {
   "cell_type": "code",
   "execution_count": 5,
   "metadata": {
    "collapsed": false
   },
   "outputs": [
    {
     "name": "stdout",
     "output_type": "stream",
     "text": [
      "THIS WORKS\n",
      "\n",
      "actual length in meters\n",
      "[ 0.00145882  0.00046443]\n",
      "\n",
      " divide by sensor width:\n",
      "\n",
      "length in terms of percent of screen\n",
      "[ 0.30392086  0.09675642]\n",
      "\n",
      " multiply by number of pixels wide the image is\n",
      "\n",
      "length in terms of pixels\n",
      "[ 389.01870545   69.66461935]\n",
      "\n",
      " add half of the image pixels wide\n",
      "\n",
      "our projection is:\n",
      "[ 1029.01870545   429.66461935]\n"
     ]
    }
   ],
   "source": [
    "#using this wiki article: https://en.wikipedia.org/wiki/Pinhole_camera_model\n",
    "# 4.11 comes from 4.11 mm focal length (in real world terms) of iphone 6 \n",
    "#    -- see http://photo.stackexchange.com/questions/57560/so-my-iphone-6-camera-lens-is-as-wide-as-my-full-frame-35mm-dslr-lens\n",
    "\n",
    "# TODO: add aspect ratio\n",
    "f  = 4.11/1000.\n",
    "W = 4.8/1000.\n",
    "H = 3.6 / 1000.   # http://photoseek.com/2013/compare-digital-camera-sensor-sizes-full-frame-35mm-aps-c-micro-four-thirds-1-inch-type/\n",
    "y = b_cam[0:2]*(f / b_cam[2])\n",
    "\n",
    "# flip again because it will be on the other side\n",
    "resolution =np.array((1280, 720))\n",
    "w, h = resolution\n",
    "print \"THIS WORKS\\n\"\n",
    "# actual length in meters\n",
    "print \"actual length in meters\"\n",
    "print y\n",
    "print \"\\n divide by sensor width:\"\n",
    "print \"\\nlength in terms of percent of screen\"\n",
    "pct_scr = y / W\n",
    "print pct_scr\n",
    "print \"\\n multiply by number of pixels wide the image is\"\n",
    "print \"\\nlength in terms of pixels\"\n",
    "relative_pixels_from_center = pct_scr * resolution\n",
    "print relative_pixels_from_center\n",
    "#print - projection / sensor_width\n",
    "print \"\\n add half of the image pixels wide\"\n",
    "print '\\nour projection is:'\n",
    "print relative_pixels_from_center + resolution/2"
   ]
  },
  {
   "cell_type": "code",
   "execution_count": 29,
   "metadata": {
    "collapsed": false
   },
   "outputs": [],
   "source": [
    "#replicate with matrix way\n",
    "\n",
    "# load up matricies\n",
    "with open(\"../src/extrinsic_matrix.npy\", \"r\") as fil:\n",
    "    openfil = np.load(fil)\n",
    "    camera_points = openfil['camera_points']\n",
    "    lookat_points = openfil['lookat_points']\n",
    "    extrinsic_matrix = openfil['extrinsic_matrix']\n",
    "    \n",
    "with open(\"../src/results.npz\", \"r\") as fil2:\n",
    "    openfil = np.load(fil2)\n",
    "    results = openfil['results']\n",
    "    info = openfil['info']"
   ]
  },
  {
   "cell_type": "code",
   "execution_count": 30,
   "metadata": {
    "collapsed": false
   },
   "outputs": [
    {
     "name": "stdout",
     "output_type": "stream",
     "text": [
      "(612, 288, 4)\n",
      "(36, 459, 3, 4)\n",
      "(36, 3)\n",
      "(459, 3)\n"
     ]
    }
   ],
   "source": [
    "print results.shape\n",
    "print extrinsic_matrix.shape\n",
    "print lookat_points.shape\n",
    "print camera_points.shape"
   ]
  },
  {
   "cell_type": "code",
   "execution_count": 31,
   "metadata": {
    "collapsed": false
   },
   "outputs": [
    {
     "name": "stdout",
     "output_type": "stream",
     "text": [
      "(612, 288, 2)\n"
     ]
    }
   ],
   "source": [
    "## THESE are the x, y coordinates for all pitches\n",
    "pitch_points = results[:,:,1:3]\n",
    "print pitch_points.shape"
   ]
  },
  {
   "cell_type": "code",
   "execution_count": 33,
   "metadata": {
    "collapsed": false
   },
   "outputs": [
    {
     "name": "stdout",
     "output_type": "stream",
     "text": [
      "(612, 288, 2)\n",
      "(612, 288, 4)\n"
     ]
    }
   ],
   "source": [
    "# we append on 0 for the z axis because all of our pitches are in the z axis, and then 1 for homogenous coordinates\n",
    "to_concat = np.zeros(pitch_points.shape, dtype=pitch_points.dtype)\n",
    "to_concat[:,:,1] = 1.\n",
    "pitch_points_homo = np.concatenate([pitch_points, to_concat], axis=2)\n",
    "\n",
    "print pitch_points.shape\n",
    "print pitch_points_homo.shape\n",
    "assert pitch_points_homo[:,:,2:4].sum()==np.product(pitch_points_homo.shape[0:2])"
   ]
  },
  {
   "cell_type": "code",
   "execution_count": 34,
   "metadata": {
    "collapsed": false,
    "scrolled": true
   },
   "outputs": [
    {
     "name": "stdout",
     "output_type": "stream",
     "text": [
      "The shape of the extrinsic matrix is:\n",
      "(3, 4)\n",
      "\n",
      "The camera point is:\n",
      "[ -0.3048       1.21920002 -30.47999954]\n",
      "\n",
      "The target point index is:\n",
      "[ 0.         -0.60960001  0.        ]\n",
      "\n",
      "The ball points are at:\n",
      "[[ 0.          1.52400005  0.          1.        ]\n",
      " [ 0.0930766   1.52066457  0.          1.        ]\n",
      " [ 0.18615159  1.5171591   0.          1.        ]\n",
      " [ 0.27922338  1.51348364  0.          1.        ]\n",
      " [ 0.37229192  1.50963819  0.          1.        ]]\n"
     ]
    }
   ],
   "source": [
    "camera_index=0\n",
    "lookat_index = 0\n",
    "pitch=0\n",
    "frame=range(5)\n",
    "em = extrinsic_matrix[lookat_index,camera_index]\n",
    "print \"The shape of the extrinsic matrix is:\"\n",
    "print em.shape\n",
    "\n",
    "print \"\\nThe camera point is:\"\n",
    "print camera_points[camera_index]\n",
    "print \"\\nThe target point index is:\"\n",
    "print lookat_points[lookat_index]\n",
    "print \"\\nThe ball points are at:\"\n",
    "\n",
    "print pitch_points_homo[pitch, frame]\n"
   ]
  },
  {
   "cell_type": "code",
   "execution_count": 35,
   "metadata": {
    "collapsed": false,
    "scrolled": false
   },
   "outputs": [
    {
     "name": "stdout",
     "output_type": "stream",
     "text": [
      "The ball points in camera coordinates\n",
      "[[  1.44816426e-09   2.12977004e+00   3.04085541e+01]\n",
      " [  9.30719450e-02   2.12649655e+00   3.04096813e+01]\n",
      " [  1.86142281e-01   2.12305284e+00   3.04108219e+01]\n",
      " [  2.79209405e-01   2.11943984e+00   3.04119701e+01]\n",
      " [  3.72273296e-01   2.11565709e+00   3.04131298e+01]]\n",
      "(5, 3)\n"
     ]
    }
   ],
   "source": [
    "print \"The ball points in camera coordinates\"\n",
    "#print em\n",
    "#print em.shape\n",
    "b_cam = np.dot(em, pitch_points_homo[pitch,frame].T).T\n",
    "print b_cam\n",
    "print b_cam.shape"
   ]
  },
  {
   "cell_type": "code",
   "execution_count": 36,
   "metadata": {
    "collapsed": false
   },
   "outputs": [
    {
     "name": "stdout",
     "output_type": "stream",
     "text": [
      "(36, 459, 3, 4)\n",
      "(612, 288, 4)\n"
     ]
    }
   ],
   "source": [
    "print extrinsic_matrix.shape\n",
    "print pitch_points_homo.shape"
   ]
  },
  {
   "cell_type": "code",
   "execution_count": 37,
   "metadata": {
    "collapsed": false
   },
   "outputs": [
    {
     "data": {
      "text/plain": [
       "(4, 5)"
      ]
     },
     "execution_count": 37,
     "metadata": {},
     "output_type": "execute_result"
    }
   ],
   "source": [
    "pitch_points_homo[pitch,frame].T.shape"
   ]
  },
  {
   "cell_type": "code",
   "execution_count": 55,
   "metadata": {
    "collapsed": false
   },
   "outputs": [
    {
     "name": "stdout",
     "output_type": "stream",
     "text": [
      "(36, 3, 4)\n",
      "(288, 4)\n"
     ]
    }
   ],
   "source": [
    "em2 = extrinsic_matrix[:,0,:,:]\n",
    "print em2.shape\n",
    "print pitch_points_homo[0,:,:].shape"
   ]
  },
  {
   "cell_type": "code",
   "execution_count": 56,
   "metadata": {
    "collapsed": false
   },
   "outputs": [
    {
     "data": {
      "text/plain": [
       "(288, 36, 3)"
      ]
     },
     "execution_count": 56,
     "metadata": {},
     "output_type": "execute_result"
    }
   ],
   "source": [
    "np.tensordot(pitch_points_homo[0,:,:], em2, axes=([1],[2])).shape"
   ]
  },
  {
   "cell_type": "markdown",
   "metadata": {},
   "source": [
    "### THIS IS PROOF THAT THE TENSORDOT WORKS"
   ]
  },
  {
   "cell_type": "code",
   "execution_count": 40,
   "metadata": {
    "collapsed": false,
    "scrolled": true
   },
   "outputs": [
    {
     "ename": "IndexError",
     "evalue": "tuple index out of range",
     "output_type": "error",
     "traceback": [
      "\u001b[0;31m---------------------------------------------------------------------------\u001b[0m",
      "\u001b[0;31mIndexError\u001b[0m                                Traceback (most recent call last)",
      "\u001b[0;32m<ipython-input-40-35ffc17a79d1>\u001b[0m in \u001b[0;36m<module>\u001b[0;34m()\u001b[0m\n\u001b[0;32m----> 1\u001b[0;31m \u001b[0mresults_temp\u001b[0m \u001b[0;34m=\u001b[0m \u001b[0mnp\u001b[0m\u001b[0;34m.\u001b[0m\u001b[0mtensordot\u001b[0m\u001b[0;34m(\u001b[0m\u001b[0mpitch_points_homo\u001b[0m\u001b[0;34m[\u001b[0m\u001b[0;36m0\u001b[0m\u001b[0;34m:\u001b[0m\u001b[0;36m10\u001b[0m\u001b[0;34m,\u001b[0m\u001b[0;36m0\u001b[0m\u001b[0;34m:\u001b[0m\u001b[0;36m2\u001b[0m\u001b[0;34m,\u001b[0m\u001b[0;34m:\u001b[0m\u001b[0;34m]\u001b[0m\u001b[0;34m,\u001b[0m \u001b[0mem2\u001b[0m\u001b[0;34m,\u001b[0m \u001b[0maxes\u001b[0m\u001b[0;34m=\u001b[0m\u001b[0;34m(\u001b[0m\u001b[0;34m[\u001b[0m\u001b[0;36m2\u001b[0m\u001b[0;34m]\u001b[0m\u001b[0;34m,\u001b[0m \u001b[0;34m[\u001b[0m\u001b[0;36m3\u001b[0m\u001b[0;34m]\u001b[0m\u001b[0;34m)\u001b[0m\u001b[0;34m)\u001b[0m\u001b[0;34m\u001b[0m\u001b[0m\n\u001b[0m\u001b[1;32m      2\u001b[0m \u001b[0;32mprint\u001b[0m \u001b[0mresults_temp\u001b[0m\u001b[0;34m.\u001b[0m\u001b[0mshape\u001b[0m\u001b[0;34m\u001b[0m\u001b[0m\n",
      "\u001b[0;32m/Users/britz/.virtualenvs/findball/lib/python2.7/site-packages/numpy/core/numeric.pyc\u001b[0m in \u001b[0;36mtensordot\u001b[0;34m(a, b, axes)\u001b[0m\n\u001b[1;32m   1300\u001b[0m     \u001b[0;32melse\u001b[0m\u001b[0;34m:\u001b[0m\u001b[0;34m\u001b[0m\u001b[0m\n\u001b[1;32m   1301\u001b[0m         \u001b[0;32mfor\u001b[0m \u001b[0mk\u001b[0m \u001b[0;32min\u001b[0m \u001b[0mrange\u001b[0m\u001b[0;34m(\u001b[0m\u001b[0mna\u001b[0m\u001b[0;34m)\u001b[0m\u001b[0;34m:\u001b[0m\u001b[0;34m\u001b[0m\u001b[0m\n\u001b[0;32m-> 1302\u001b[0;31m             \u001b[0;32mif\u001b[0m \u001b[0mas_\u001b[0m\u001b[0;34m[\u001b[0m\u001b[0maxes_a\u001b[0m\u001b[0;34m[\u001b[0m\u001b[0mk\u001b[0m\u001b[0;34m]\u001b[0m\u001b[0;34m]\u001b[0m \u001b[0;34m!=\u001b[0m \u001b[0mbs\u001b[0m\u001b[0;34m[\u001b[0m\u001b[0maxes_b\u001b[0m\u001b[0;34m[\u001b[0m\u001b[0mk\u001b[0m\u001b[0;34m]\u001b[0m\u001b[0;34m]\u001b[0m\u001b[0;34m:\u001b[0m\u001b[0;34m\u001b[0m\u001b[0m\n\u001b[0m\u001b[1;32m   1303\u001b[0m                 \u001b[0mequal\u001b[0m \u001b[0;34m=\u001b[0m \u001b[0mFalse\u001b[0m\u001b[0;34m\u001b[0m\u001b[0m\n\u001b[1;32m   1304\u001b[0m                 \u001b[0;32mbreak\u001b[0m\u001b[0;34m\u001b[0m\u001b[0m\n",
      "\u001b[0;31mIndexError\u001b[0m: tuple index out of range"
     ]
    }
   ],
   "source": [
    "results_temp = np.tensordot(pitch_points_homo[0:10,0:2,:], em2, axes=([2], [3]))\n",
    "print results_temp.shape"
   ]
  },
  {
   "cell_type": "code",
   "execution_count": 17,
   "metadata": {
    "collapsed": false,
    "scrolled": true
   },
   "outputs": [
    {
     "name": "stdout",
     "output_type": "stream",
     "text": [
      "True\n",
      "True\n",
      "True\n",
      "True\n",
      "True\n",
      "True\n",
      "True\n",
      "True\n",
      "True\n",
      "True\n",
      "True\n",
      "True\n",
      "True\n",
      "True\n",
      "True\n",
      "True\n",
      "True\n",
      "True\n",
      "True\n",
      "True\n",
      "True\n",
      "True\n",
      "True\n",
      "True\n",
      "True\n",
      "True\n",
      "True\n",
      "True\n",
      "True\n",
      "True\n",
      "True\n",
      "True\n",
      "True\n",
      "True\n",
      "True\n",
      "True\n",
      "True\n",
      "True\n",
      "True\n",
      "True\n",
      "True\n",
      "True\n",
      "True\n",
      "True\n",
      "True\n",
      "True\n",
      "True\n",
      "True\n",
      "True\n",
      "True\n",
      "True\n",
      "True\n",
      "True\n",
      "True\n",
      "True\n",
      "True\n",
      "True\n",
      "True\n",
      "True\n",
      "True\n",
      "True\n",
      "True\n",
      "True\n",
      "True\n",
      "True\n",
      "True\n",
      "True\n",
      "True\n",
      "True\n",
      "True\n",
      "True\n",
      "True\n",
      "True\n",
      "True\n",
      "True\n",
      "True\n",
      "True\n",
      "True\n",
      "True\n",
      "True\n",
      "True\n",
      "True\n",
      "True\n",
      "True\n",
      "True\n",
      "True\n",
      "True\n",
      "True\n",
      "True\n",
      "True\n",
      "True\n",
      "True\n",
      "True\n",
      "True\n",
      "True\n",
      "True\n",
      "True\n",
      "True\n",
      "True\n",
      "True\n",
      "True\n",
      "True\n",
      "True\n",
      "True\n",
      "True\n",
      "True\n",
      "True\n",
      "True\n",
      "True\n",
      "True\n",
      "True\n",
      "True\n",
      "True\n",
      "True\n",
      "True\n",
      "True\n",
      "True\n",
      "True\n",
      "True\n",
      "True\n"
     ]
    }
   ],
   "source": [
    "for i1 in range(10):\n",
    "    for j1 in range(2):\n",
    "        for i2 in range(2):\n",
    "            for j2 in range(3):\n",
    "                #print \"%s %s %s %s\" % (i1, j1, i2, j2)\n",
    "                #print np.dot(em2[0,0], pitch_points_homo[0,0,:])\n",
    "                print np.all(np.isclose(results_temp[i1,j1,i2,j2], np.dot(em2[i2,j2], pitch_points_homo[i1,j1,:])))"
   ]
  },
  {
   "cell_type": "code",
   "execution_count": 22,
   "metadata": {
    "collapsed": false
   },
   "outputs": [
    {
     "name": "stdout",
     "output_type": "stream",
     "text": [
      "(5436, 288, 50, 3, 3)\n",
      "2818022400\n"
     ]
    }
   ],
   "source": [
    "em = extrinsic_matrix[:50, 0:3,:,:]\n",
    "b_cam = np.tensordot(pitch_points_homo, em, axes=([2], [3]))\n",
    "print b_cam.shape\n",
    "print b_cam.nbytes"
   ]
  },
  {
   "cell_type": "code",
   "execution_count": 271,
   "metadata": {
    "collapsed": false
   },
   "outputs": [
    {
     "name": "stdout",
     "output_type": "stream",
     "text": [
      "(403, 28728, 3, 4)\n"
     ]
    }
   ],
   "source": [
    "print extrinsic_matrix.shape"
   ]
  },
  {
   "cell_type": "code",
   "execution_count": 185,
   "metadata": {
    "collapsed": false
   },
   "outputs": [
    {
     "name": "stdout",
     "output_type": "stream",
     "text": [
      "THIS WORKS\n",
      "\n",
      "actual length in meters\n",
      "[[  1.05837078e-13   1.11986839e-04]\n",
      " [  3.41695772e-06   1.11861445e-04]\n",
      " [  6.83360440e-06   1.11725618e-04]\n",
      " [  1.02498943e-05   1.11579393e-04]\n",
      " [  1.36658227e-05   1.11422756e-04]]\n",
      "\n",
      " divide by sensor width:\n",
      "\n",
      "length in terms of percent of screen\n",
      "[[  2.20493913e-11   3.11074554e-02]\n",
      " [  7.11866193e-04   3.10726237e-02]\n",
      " [  1.42366758e-03   3.10348939e-02]\n",
      " [  2.13539465e-03   3.09942758e-02]\n",
      " [  2.84704640e-03   3.09507656e-02]]\n",
      "\n",
      " multiply by number of pixels wide the image is\n",
      "\n",
      "length in terms of pixels\n",
      "[[  2.82232209e-08   2.23973679e+01]\n",
      " [  9.11188727e-01   2.23722891e+01]\n",
      " [  1.82229451e+00   2.23451236e+01]\n",
      " [  2.73330515e+00   2.23158786e+01]\n",
      " [  3.64421940e+00   2.22845512e+01]]\n",
      "\n",
      "add half of the image pixels wide\n",
      "\n",
      "our projection is:\n",
      "[[ 640.00000003  382.39736787]\n",
      " [ 640.91118873  382.3722891 ]\n",
      " [ 641.82229451  382.34512358]\n",
      " [ 642.73330515  382.3158786 ]\n",
      " [ 643.6442194   382.28455123]]\n"
     ]
    }
   ],
   "source": [
    "f  = 4.11/1000.\n",
    "W = 4.8/1000.\n",
    "H = 3.6 / 1000.   # http://photoseek.com/2013/compare-digital-camera-sensor-sizes-full-frame-35mm-aps-c-micro-four-thirds-1-inch-type/\n",
    "c_dim = np.array([W, H])\n",
    "y = b_cam[:,0:2]*(f / b_cam[:,2]).reshape(-1,1)\n",
    "# TODO: add aspect ratio\n",
    "\n",
    "# flip again because it will be on the other side\n",
    "resolution =np.array((1280, 720))\n",
    "w, h = resolution\n",
    "print \"THIS WORKS\\n\"\n",
    "# actual length in meters\n",
    "print \"actual length in meters\"\n",
    "print y\n",
    "print \"\\n divide by sensor width:\"\n",
    "print \"\\nlength in terms of percent of screen\"\n",
    "pct_scr = y / c_dim\n",
    "print pct_scr\n",
    "print \"\\n multiply by number of pixels wide the image is\"\n",
    "print \"\\nlength in terms of pixels\"\n",
    "relative_pixels_from_center = pct_scr * resolution\n",
    "print relative_pixels_from_center\n",
    "#print - projection / sensor_width\n",
    "print \"\\nadd half of the image pixels wide\"\n",
    "print '\\nour projection is:'\n",
    "print relative_pixels_from_center + resolution/2"
   ]
  },
  {
   "cell_type": "code",
   "execution_count": 73,
   "metadata": {
    "collapsed": false
   },
   "outputs": [
    {
     "name": "stdout",
     "output_type": "stream",
     "text": [
      "THIS WORKS\n",
      "\n",
      "actual length in meters\n",
      "[ -5.78100935e-11   4.84554184e-04]\n",
      "\n",
      " divide by sensor width:\n",
      "\n",
      "length in terms of percent of screen\n",
      "[ -1.20437686e-08   1.00948781e-01]\n",
      "\n",
      " multiply by number of pixels wide the image is\n",
      "\n",
      "length in terms of pixels\n",
      "[ -1.54160239e-05   6.46072197e+01]\n",
      "\n",
      " add half of the image pixels wide\n",
      "\n",
      "our projection is:\n",
      "[ 639.99998458  384.6072197 ]\n"
     ]
    }
   ],
   "source": [
    "### this is saved as an archive\n",
    "\n",
    "f  = 4.11/1000.\n",
    "W = 4.8/1000.\n",
    "H = 3.6 / 1000.   # http://photoseek.com/2013/compare-digital-camera-sensor-sizes-full-frame-35mm-aps-c-micro-four-thirds-1-inch-type/\n",
    "\n",
    "y = b_cam[:,0:2]*(f / b_cam[:,2])\n",
    "# TODO: add aspect ratio\n",
    "\n",
    "# flip again because it will be on the other side\n",
    "resolution =np.array((1280, 640))\n",
    "w, h = resolution\n",
    "print \"THIS WORKS\\n\"\n",
    "# actual length in meters\n",
    "print \"actual length in meters\"\n",
    "print y\n",
    "print \"\\n divide by sensor width:\"\n",
    "print \"\\nlength in terms of percent of screen\"\n",
    "pct_scr = y / W\n",
    "print pct_scr\n",
    "print \"\\n multiply by number of pixels wide the image is\"\n",
    "print \"\\nlength in terms of pixels\"\n",
    "relative_pixels_from_center = pct_scr * resolution\n",
    "print relative_pixels_from_center\n",
    "#print - projection / sensor_width\n",
    "print \"\\n add half of the image pixels wide\"\n",
    "print '\\nour projection is:'\n",
    "print relative_pixels_from_center + resolution/2"
   ]
  },
  {
   "cell_type": "code",
   "execution_count": 63,
   "metadata": {
    "collapsed": false
   },
   "outputs": [
    {
     "name": "stdout",
     "output_type": "stream",
     "text": [
      "[  0.00000000e+00   1.21920002e+00  -2.00000000e+00   1.34111996e+01\n",
      "   1.20546587e+00   3.00000000e-01   4.38024598e-03   1.45290000e-01\n",
      "   4.16666667e-03   2.88000000e+02]\n",
      "[ -3.0480001    0.91439998  15.23999977]\n",
      "[ 0.         -0.60960001  0.        ]\n"
     ]
    }
   ],
   "source": [
    "print info[0]\n",
    "print camera_points[0]\n",
    "print lookat_points[0]"
   ]
  },
  {
   "cell_type": "code",
   "execution_count": null,
   "metadata": {
    "collapsed": true
   },
   "outputs": [],
   "source": []
  },
  {
   "cell_type": "code",
   "execution_count": 185,
   "metadata": {
    "collapsed": false
   },
   "outputs": [
    {
     "name": "stdout",
     "output_type": "stream",
     "text": [
      "[[1153    0  640]\n",
      " [   0 1229  360]\n",
      " [   0    0    1]]\n",
      "[[ 55792.47547326]\n",
      " [ 35912.1228171 ]\n",
      " [    99.75589671]]\n"
     ]
    }
   ],
   "source": [
    "print intrinsic_matrix\n",
    "print np.dot(intrinsic_matrix, wc)"
   ]
  },
  {
   "cell_type": "code",
   "execution_count": 186,
   "metadata": {
    "collapsed": false
   },
   "outputs": [
    {
     "name": "stdout",
     "output_type": "stream",
     "text": [
      "[[ 640    0    0  640]\n",
      " [   0 -360    0  360]\n",
      " [   0    0    1    0]\n",
      " [   0    0    0    1]]\n"
     ]
    }
   ],
   "source": [
    "toScreen = np.array([[640, 0,0, 640],[0, -360,0, 360], [0, 0, 1, 0], [0, 0, 0,1]])\n",
    "print toScreen"
   ]
  },
  {
   "cell_type": "code",
   "execution_count": 187,
   "metadata": {
    "collapsed": false
   },
   "outputs": [
    {
     "data": {
      "text/plain": [
       "array([[ -3.82906417e+03],\n",
       "       [  3.60000000e+02],\n",
       "       [  9.97558967e+01],\n",
       "       [  1.00000000e+00]])"
      ]
     },
     "execution_count": 187,
     "metadata": {},
     "output_type": "execute_result"
    }
   ],
   "source": [
    "# this seems to wrok\n",
    "np.dot(toScreen, np.vstack([wc,[1]]))"
   ]
  },
  {
   "cell_type": "code",
   "execution_count": 129,
   "metadata": {
    "collapsed": false
   },
   "outputs": [
    {
     "data": {
      "text/plain": [
       "-1199.02647"
      ]
     },
     "execution_count": 129,
     "metadata": {},
     "output_type": "execute_result"
    }
   ],
   "source": [
    "-1.19902647e+03"
   ]
  },
  {
   "cell_type": "code",
   "execution_count": 81,
   "metadata": {
    "collapsed": false
   },
   "outputs": [
    {
     "data": {
      "text/plain": [
       "0.99999999999999989"
      ]
     },
     "execution_count": 81,
     "metadata": {},
     "output_type": "execute_result"
    }
   ],
   "source": [
    "np.linalg.det(R)"
   ]
  },
  {
   "cell_type": "code",
   "execution_count": null,
   "metadata": {
    "collapsed": true
   },
   "outputs": [],
   "source": []
  },
  {
   "cell_type": "code",
   "execution_count": 149,
   "metadata": {
    "collapsed": false
   },
   "outputs": [],
   "source": [
    "def rotate_x(theta_x):\n",
    "    r1 = [1,0,0,0]\n",
    "    r2 = [0, np.cos(theta_x), -np.sin(theta_x), 0]\n",
    "    \n",
    "    r3 = [0, np.sin(theta_x), np.cos(theta_x), 0]\n",
    "    \n",
    "    r4 = [0,0,0,1]\n",
    "    return np.array([r1,r2,r3,r4])\n",
    "\n",
    "def rotate_y(theta_y):\n",
    "    r1 = [np.cos(theta_y), 0, np.sin(theta_y), 0]\n",
    "    r2 = [0, 1, 0, 0]\n",
    "    \n",
    "    r3 = [-np.sin(theta_y),0, np.cos(theta_y), 0]\n",
    "    \n",
    "    r4 = [0,0,0,1]\n",
    "    return np.array([r1,r2,r3,r4])\n",
    "\n",
    "def rotate_z(theta_z):\n",
    "    r1 = [np.cos(theta_z), -np.sin(theta_z), 0, 0]\n",
    "    r2 = [np.sin(theta_z), np.cos(theta_z), 0, 0 ]\n",
    "    \n",
    "    r3 = [0, 0, 1, 0]\n",
    "    \n",
    "    r4 = [0, 0, 0, 1]\n",
    "    return np.array([r1,r2,r3,r4])\n",
    "\n",
    "def rotate(p, thetas=(0,0,0), degrees=False, transpose=False):\n",
    "    \"\"\" rotate x, then y, then z\"\"\"\n",
    "    if degrees == True:\n",
    "        thetas = [np.deg2rad(th) for th in thetas]\n",
    "    X_rot_mat = rotate_x(thetas[0])\n",
    "    Y_rot_mat = rotate_y(thetas[1])\n",
    "    Z_rot_mat = rotate_z(thetas[2])\n",
    "    if transpose:\n",
    "        X_rot_mat = X_rot_mat.T\n",
    "        Y_rot_mat = Y_rot_mat.T\n",
    "        Z_rot_mat = Z_rot_mat.T\n",
    "        \n",
    "    rot_mat = np.dot(np.dot(Z_rot_mat, Y_rot_mat), X_rot_mat)\n",
    "    return np.dot(rot_mat, p), rot_mat\n",
    "\n",
    "    #return np.dot(np.dot(np.dot(rotate_x(thetas[0]), rotate_y(thetas[1])), rotate_z(thetas[2])), p)\n",
    "\n",
    "def CtoT(C):\n",
    "    \"\"\"C is camera position, will return translation matrix\"\"\"\n",
    "    \n",
    "    return np.vstack([np.hstack([np.identity(3), C.reshape(-1,1)]), np.array([0,0,0,1])])\n"
   ]
  },
  {
   "cell_type": "code",
   "execution_count": 18,
   "metadata": {
    "collapsed": false
   },
   "outputs": [
    {
     "data": {
      "text/plain": [
       "array([[ 0.70710678, -0.70710678,  0.        ,  0.        ],\n",
       "       [ 0.70710678,  0.70710678,  0.        ,  0.        ],\n",
       "       [ 0.        ,  0.        ,  0.        ,  0.        ],\n",
       "       [ 0.        ,  0.        ,  0.        ,  1.        ]])"
      ]
     },
     "execution_count": 18,
     "metadata": {},
     "output_type": "execute_result"
    }
   ],
   "source": [
    "np.array([1,1,0,1])*rotate_z(np.deg2rad(45))\n"
   ]
  },
  {
   "cell_type": "code",
   "execution_count": 21,
   "metadata": {
    "collapsed": false
   },
   "outputs": [
    {
     "data": {
      "text/plain": [
       "array([ 0.70710678,  0.        , -0.70710678,  1.        ])"
      ]
     },
     "execution_count": 21,
     "metadata": {},
     "output_type": "execute_result"
    }
   ],
   "source": [
    "np.dot(rotate_y(np.deg2rad(45)), np.array([1,0,0,1]))\n"
   ]
  },
  {
   "cell_type": "code",
   "execution_count": 121,
   "metadata": {
    "collapsed": false
   },
   "outputs": [],
   "source": [
    "p1, R = rotate(np.array([1,0,0,1]),thetas=(0,45, 45), degrees=True,transpose=False)"
   ]
  },
  {
   "cell_type": "code",
   "execution_count": 122,
   "metadata": {
    "collapsed": false
   },
   "outputs": [
    {
     "data": {
      "text/plain": [
       "array([ 0.5       ,  0.5       , -0.70710678,  1.        ])"
      ]
     },
     "execution_count": 122,
     "metadata": {},
     "output_type": "execute_result"
    }
   ],
   "source": [
    "p1"
   ]
  },
  {
   "cell_type": "code",
   "execution_count": 123,
   "metadata": {
    "collapsed": false
   },
   "outputs": [
    {
     "data": {
      "text/plain": [
       "array([[ 0.5       , -0.70710678,  0.5       ,  0.        ],\n",
       "       [ 0.5       ,  0.70710678,  0.5       ,  0.        ],\n",
       "       [-0.70710678,  0.        ,  0.70710678,  0.        ],\n",
       "       [ 0.        ,  0.        ,  0.        ,  1.        ]])"
      ]
     },
     "execution_count": 123,
     "metadata": {},
     "output_type": "execute_result"
    }
   ],
   "source": [
    "R"
   ]
  },
  {
   "cell_type": "code",
   "execution_count": 150,
   "metadata": {
    "collapsed": false
   },
   "outputs": [
    {
     "data": {
      "text/plain": [
       "array([[ 1.,  0.,  0.,  0.],\n",
       "       [ 0.,  1.,  0.,  0.],\n",
       "       [ 0.,  0.,  1.,  5.],\n",
       "       [ 0.,  0.,  0.,  1.]])"
      ]
     },
     "execution_count": 150,
     "metadata": {},
     "output_type": "execute_result"
    }
   ],
   "source": [
    "C = np.array([0,0,5]) # position of camera\n",
    "\n",
    "Tr = CtoT(C)\n",
    "Tr"
   ]
  },
  {
   "cell_type": "code",
   "execution_count": 151,
   "metadata": {
    "collapsed": false
   },
   "outputs": [],
   "source": [
    "T = np.dot(R, Tr)"
   ]
  },
  {
   "cell_type": "code",
   "execution_count": 152,
   "metadata": {
    "collapsed": false
   },
   "outputs": [
    {
     "data": {
      "text/plain": [
       "array([[ 0.5       , -0.70710678,  0.5       ,  2.5       ],\n",
       "       [ 0.5       ,  0.70710678,  0.5       ,  2.5       ],\n",
       "       [-0.70710678,  0.        ,  0.70710678,  3.53553391],\n",
       "       [ 0.        ,  0.        ,  0.        ,  1.        ]])"
      ]
     },
     "execution_count": 152,
     "metadata": {},
     "output_type": "execute_result"
    }
   ],
   "source": [
    "T"
   ]
  },
  {
   "cell_type": "code",
   "execution_count": 153,
   "metadata": {
    "collapsed": false
   },
   "outputs": [
    {
     "data": {
      "text/plain": [
       "array([ 3.        ,  3.        ,  2.82842712,  1.        ])"
      ]
     },
     "execution_count": 153,
     "metadata": {},
     "output_type": "execute_result"
    }
   ],
   "source": [
    "np.dot(T,np.array([1,0,0,1]))"
   ]
  },
  {
   "cell_type": "code",
   "execution_count": 154,
   "metadata": {
    "collapsed": false
   },
   "outputs": [
    {
     "data": {
      "text/plain": [
       "array([ 0.5       ,  0.5       , -0.70710678,  1.        ])"
      ]
     },
     "execution_count": 154,
     "metadata": {},
     "output_type": "execute_result"
    }
   ],
   "source": [
    "p1"
   ]
  },
  {
   "cell_type": "code",
   "execution_count": 155,
   "metadata": {
    "collapsed": false
   },
   "outputs": [
    {
     "data": {
      "text/plain": [
       "array([ 0.5       ,  0.5       ,  4.29289322,  1.        ])"
      ]
     },
     "execution_count": 155,
     "metadata": {},
     "output_type": "execute_result"
    }
   ],
   "source": [
    "np.dot(Tr, p1)"
   ]
  },
  {
   "cell_type": "code",
   "execution_count": 156,
   "metadata": {
    "collapsed": false
   },
   "outputs": [
    {
     "data": {
      "text/plain": [
       "array([ 1.,  0.,  5.,  1.])"
      ]
     },
     "execution_count": 156,
     "metadata": {},
     "output_type": "execute_result"
    }
   ],
   "source": [
    "np.dot(Tr, np.array([1,0,0,1]))"
   ]
  },
  {
   "cell_type": "code",
   "execution_count": null,
   "metadata": {
    "collapsed": true
   },
   "outputs": [],
   "source": []
  }
 ],
 "metadata": {
  "kernelspec": {
   "display_name": "Python 2",
   "language": "python",
   "name": "python2"
  },
  "language_info": {
   "codemirror_mode": {
    "name": "ipython",
    "version": 2
   },
   "file_extension": ".py",
   "mimetype": "text/x-python",
   "name": "python",
   "nbconvert_exporter": "python",
   "pygments_lexer": "ipython2",
   "version": "2.7.10"
  }
 },
 "nbformat": 4,
 "nbformat_minor": 1
}
