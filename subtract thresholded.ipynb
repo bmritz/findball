{
 "metadata": {
  "name": ""
 },
 "nbformat": 3,
 "nbformat_minor": 0,
 "worksheets": [
  {
   "cells": [
    {
     "cell_type": "code",
     "collapsed": false,
     "input": [
      "# import opencv\n",
      "import cv2\n",
      "import os\n",
      "os.chdir(\"C:\\\\Users\\\\Brian_Ritz\\Desktop\\\\ffmpeg_examples\\\\curve2_in\")\n",
      "print os.getcwd()\n",
      "\n",
      "# set up subtractor\n",
      "history = 5\n",
      "nmixtures=3\n",
      "backgroundRatio=0.85\n",
      "noiseSigma=5\n",
      "learningRate=.1\n",
      "\n",
      "fgbg = cv2.BackgroundSubtractorMOG(history = history,\n",
      "                                   nmixtures = nmixtures,\n",
      "                                   backgroundRatio = backgroundRatio,\n",
      "                                   noiseSigma = noiseSigma)\n",
      "# Read image\n",
      "for i in range(45, 65):\n",
      "    pitch = i\n",
      "    src = cv2.imread(\"C:/Users/Brian_Ritz/Desktop/ffmpeg_examples/curve2_in/pitch\"+str(pitch)+\".png\", cv2.IMREAD_GRAYSCALE)\n",
      "    src2 = cv2.imread(\"C:/Users/Brian_Ritz/Desktop/ffmpeg_examples/curve2_in/pitch\"+str(pitch)+\".png\")\n",
      "    src_gr = cv2.cvtColor(src2, cv2.COLOR_BGR2GRAY)\n",
      "    # Set threshold and maxValue\n",
      "    thresh = 150\n",
      "    maxValue = 255\n",
      "     \n",
      "    # Basic threshold example\n",
      "    ret,dst = cv2.threshold(src,thresh,maxValue,cv2.THRESH_BINARY)\n",
      "#     dst = cv2.adaptiveThreshold(src_gr, maxValue, cv2.ADAPTIVE_THRESH_MEAN_C, cv2.THRESH_BINARY,11,5)\n",
      "    \n",
      "    fgmask = fgbg.apply(src2, learningRate=learningRate)\n",
      "    cv2.imwrite(\"C:/Users/Brian_Ritz/Desktop/ffmpeg_examples/curve2_out/fgmask_\"+str(pitch)+\".png\", fgmask)\n",
      "    dst = cv2.adaptiveThreshold(src, maxValue, cv2.ADAPTIVE_THRESH_MEAN_C, cv2.THRESH_BINARY,11,5)\n",
      "\n",
      "# plt.figure(1,  figsize=(18, 16))\n",
      "# plt.subplot(311)\n",
      "# plt.imshow(src2)\n",
      "# plt.subplot(312)\n",
      "# plt.imshow(src)\n",
      "# plt.subplot(313)\n",
      "# plt.imshow(dst)"
     ],
     "language": "python",
     "metadata": {},
     "outputs": [
      {
       "ename": "error",
       "evalue": "..\\..\\..\\..\\opencv\\modules\\imgproc\\src\\color.cpp:3739: error: (-215) scn == 3 || scn == 4 in function cv::cvtColor\n",
       "output_type": "pyerr",
       "traceback": [
        "\u001b[1;31m---------------------------------------------------------------------------\u001b[0m\n\u001b[1;31merror\u001b[0m                                     Traceback (most recent call last)",
        "\u001b[1;32m<ipython-input-35-20800b050b29>\u001b[0m in \u001b[0;36m<module>\u001b[1;34m()\u001b[0m\n\u001b[0;32m     21\u001b[0m     \u001b[0msrc\u001b[0m \u001b[1;33m=\u001b[0m \u001b[0mcv2\u001b[0m\u001b[1;33m.\u001b[0m\u001b[0mimread\u001b[0m\u001b[1;33m(\u001b[0m\u001b[1;34m\"C:/Users/Brian_Ritz/Desktop/ffmpeg_examples/curve2_in/pitch\"\u001b[0m\u001b[1;33m+\u001b[0m\u001b[0mstr\u001b[0m\u001b[1;33m(\u001b[0m\u001b[0mpitch\u001b[0m\u001b[1;33m)\u001b[0m\u001b[1;33m+\u001b[0m\u001b[1;34m\".png\"\u001b[0m\u001b[1;33m,\u001b[0m \u001b[0mcv2\u001b[0m\u001b[1;33m.\u001b[0m\u001b[0mIMREAD_GRAYSCALE\u001b[0m\u001b[1;33m)\u001b[0m\u001b[1;33m\u001b[0m\u001b[0m\n\u001b[0;32m     22\u001b[0m     \u001b[0msrc2\u001b[0m \u001b[1;33m=\u001b[0m \u001b[0mcv2\u001b[0m\u001b[1;33m.\u001b[0m\u001b[0mimread\u001b[0m\u001b[1;33m(\u001b[0m\u001b[1;34m\"C:/Users/Brian_Ritz/Desktop/ffmpeg_examples/curve2_in/pitch\"\u001b[0m\u001b[1;33m+\u001b[0m\u001b[0mstr\u001b[0m\u001b[1;33m(\u001b[0m\u001b[0mpitch\u001b[0m\u001b[1;33m)\u001b[0m\u001b[1;33m+\u001b[0m\u001b[1;34m\".png\"\u001b[0m\u001b[1;33m)\u001b[0m\u001b[1;33m\u001b[0m\u001b[0m\n\u001b[1;32m---> 23\u001b[1;33m     \u001b[0msrc_gr\u001b[0m \u001b[1;33m=\u001b[0m \u001b[0mcv2\u001b[0m\u001b[1;33m.\u001b[0m\u001b[0mcvtColor\u001b[0m\u001b[1;33m(\u001b[0m\u001b[0msrc2\u001b[0m\u001b[1;33m,\u001b[0m \u001b[0mcv2\u001b[0m\u001b[1;33m.\u001b[0m\u001b[0mCOLOR_BGR2GRAY\u001b[0m\u001b[1;33m)\u001b[0m\u001b[1;33m\u001b[0m\u001b[0m\n\u001b[0m\u001b[0;32m     24\u001b[0m     \u001b[1;31m# Set threshold and maxValue\u001b[0m\u001b[1;33m\u001b[0m\u001b[1;33m\u001b[0m\u001b[0m\n\u001b[0;32m     25\u001b[0m     \u001b[0mthresh\u001b[0m \u001b[1;33m=\u001b[0m \u001b[1;36m150\u001b[0m\u001b[1;33m\u001b[0m\u001b[0m\n",
        "\u001b[1;31merror\u001b[0m: ..\\..\\..\\..\\opencv\\modules\\imgproc\\src\\color.cpp:3739: error: (-215) scn == 3 || scn == 4 in function cv::cvtColor\n"
       ]
      },
      {
       "output_type": "stream",
       "stream": "stdout",
       "text": [
        "C:\\Users\\Brian_Ritz\\Desktop\\ffmpeg_examples\\curve2_in\n"
       ]
      }
     ],
     "prompt_number": 35
    },
    {
     "cell_type": "code",
     "collapsed": false,
     "input": [],
     "language": "python",
     "metadata": {},
     "outputs": []
    }
   ],
   "metadata": {}
  }
 ]
}